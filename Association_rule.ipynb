{
 "cells": [
  {
   "cell_type": "markdown",
   "id": "07d50dab-9c3a-49c0-89dd-27d070157883",
   "metadata": {},
   "source": [
    "## **Analyzing Restaurant Sales per Customer Using Association Rule Mining**\n",
    "\n",
    "**Khamidov Mirzakalonboy**\n",
    "**id: 474561**"
   ]
  },
  {
   "cell_type": "markdown",
   "id": "23c64528-e131-4c41-a5be-3b16d9e0a6f3",
   "metadata": {},
   "source": [
    "## Introduction\n",
    "\n",
    "In this analysis, i applied association rule mining to explore and understand customer purchasing patterns at a restaurant. The goal was to identify frequent itemsets and uncover associations between different menu items based on customer transactions. This information can be incredibly valuable for improving sales strategies, enhancing customer experiences, and optimizing inventory management.\n",
    "\n",
    "Using **association rule mining**, a popular technique in data analysis, i aim to identify relationships between different menu items. By understanding these associations, the restaurant can implement strategies like bundling, cross-selling, and personalized recommendations to boost sales and enhance the dining experience for customers.\n",
    "\n",
    "### Objectives\n",
    "\n",
    "1. Discover relationships between menu items using metrics like support, confidence, and lift.\n",
    "2. Visualize these relationships through graphs and heatmaps for better interpretability.\n",
    "3. Develop a recommendation system to suggest items that are frequently purchased together.\n",
    "4. Provide actionable insights and future recommendations for the restaurant to optimize their operations and marketing strategies.\n",
    "\n",
    "By the end of this analysis, the restaurant will have a clear understanding of customer purchasing patterns, enabling them to make informed business decisions that enhance profitability and customer satisfaction.\n",
    "\n",
    "\n",
    "here you can find source of dataset: https://www.kaggle.com/datasets/newshuntkannada/restaurant-transaction-data-to-implement-apriori"
   ]
  },
  {
   "cell_type": "markdown",
   "id": "68662356-cdf6-4291-ab30-61089b98122e",
   "metadata": {},
   "source": [
    "### Importing Libraries and Loading the Dataset"
   ]
  },
  {
   "cell_type": "code",
   "execution_count": 112,
   "id": "344ee309-929b-4ecf-b806-4b1650adbde6",
   "metadata": {},
   "outputs": [],
   "source": [
    "import pandas as pd\n",
    "from mlxtend.frequent_patterns import apriori, association_rules\n",
    "from mlxtend.frequent_patterns import fpgrowth\n",
    "import matplotlib.pyplot as plt\n",
    "import plotly.graph_objects as go\n",
    "import networkx as nx\n",
    "import matplotlib.pyplot as plt\n",
    "import seaborn as sns\n",
    "df = pd.read_csv(\"restaurant.csv\")"
   ]
  },
  {
   "cell_type": "code",
   "execution_count": 114,
   "id": "da8a3fd1-45e6-4266-9a51-2b53625b8b3c",
   "metadata": {},
   "outputs": [
    {
     "data": {
      "text/html": [
       "<div>\n",
       "<style scoped>\n",
       "    .dataframe tbody tr th:only-of-type {\n",
       "        vertical-align: middle;\n",
       "    }\n",
       "\n",
       "    .dataframe tbody tr th {\n",
       "        vertical-align: top;\n",
       "    }\n",
       "\n",
       "    .dataframe thead th {\n",
       "        text-align: right;\n",
       "    }\n",
       "</style>\n",
       "<table border=\"1\" class=\"dataframe\">\n",
       "  <thead>\n",
       "    <tr style=\"text-align: right;\">\n",
       "      <th></th>\n",
       "      <th>ORDX0</th>\n",
       "      <th>490Rs</th>\n",
       "      <th>Bhuna - Chicken</th>\n",
       "      <th>Korma - Lamb</th>\n",
       "      <th>Plain Rice</th>\n",
       "      <th></th>\n",
       "      <th>House white wine 75cl</th>\n",
       "      <th>Chicken Tikka Balti</th>\n",
       "      <th>Special Fried Rice</th>\n",
       "      <th>Curry</th>\n",
       "      <th>Lamb Biryani</th>\n",
       "      <th>Vindaloo - Prawn</th>\n",
       "    </tr>\n",
       "  </thead>\n",
       "  <tbody>\n",
       "    <tr>\n",
       "      <th>0</th>\n",
       "      <td>ORDX1</td>\n",
       "      <td>446Rs</td>\n",
       "      <td>True</td>\n",
       "      <td>False</td>\n",
       "      <td>True</td>\n",
       "      <td>False</td>\n",
       "      <td>False</td>\n",
       "      <td>False</td>\n",
       "      <td>False</td>\n",
       "      <td>False</td>\n",
       "      <td>False</td>\n",
       "      <td>False</td>\n",
       "    </tr>\n",
       "    <tr>\n",
       "      <th>1</th>\n",
       "      <td>ORDX2</td>\n",
       "      <td>465Rs</td>\n",
       "      <td>False</td>\n",
       "      <td>False</td>\n",
       "      <td>True</td>\n",
       "      <td>False</td>\n",
       "      <td>False</td>\n",
       "      <td>True</td>\n",
       "      <td>False</td>\n",
       "      <td>False</td>\n",
       "      <td>False</td>\n",
       "      <td>False</td>\n",
       "    </tr>\n",
       "    <tr>\n",
       "      <th>2</th>\n",
       "      <td>ORDX3</td>\n",
       "      <td>1126Rs</td>\n",
       "      <td>True</td>\n",
       "      <td>False</td>\n",
       "      <td>False</td>\n",
       "      <td>False</td>\n",
       "      <td>True</td>\n",
       "      <td>False</td>\n",
       "      <td>False</td>\n",
       "      <td>False</td>\n",
       "      <td>False</td>\n",
       "      <td>False</td>\n",
       "    </tr>\n",
       "    <tr>\n",
       "      <th>3</th>\n",
       "      <td>ORDX4</td>\n",
       "      <td>435Rs</td>\n",
       "      <td>False</td>\n",
       "      <td>False</td>\n",
       "      <td>True</td>\n",
       "      <td>True</td>\n",
       "      <td>False</td>\n",
       "      <td>False</td>\n",
       "      <td>False</td>\n",
       "      <td>False</td>\n",
       "      <td>False</td>\n",
       "      <td>False</td>\n",
       "    </tr>\n",
       "    <tr>\n",
       "      <th>4</th>\n",
       "      <td>ORDX5</td>\n",
       "      <td>1328Rs</td>\n",
       "      <td>True</td>\n",
       "      <td>False</td>\n",
       "      <td>False</td>\n",
       "      <td>True</td>\n",
       "      <td>False</td>\n",
       "      <td>False</td>\n",
       "      <td>False</td>\n",
       "      <td>False</td>\n",
       "      <td>False</td>\n",
       "      <td>False</td>\n",
       "    </tr>\n",
       "  </tbody>\n",
       "</table>\n",
       "</div>"
      ],
      "text/plain": [
       "   ORDX0   490Rs  Bhuna - Chicken  Korma - Lamb  Plain Rice         \\\n",
       "0  ORDX1   446Rs             True         False        True  False   \n",
       "1  ORDX2   465Rs            False         False        True  False   \n",
       "2  ORDX3  1126Rs             True         False       False  False   \n",
       "3  ORDX4   435Rs            False         False        True   True   \n",
       "4  ORDX5  1328Rs             True         False       False   True   \n",
       "\n",
       "   House white wine 75cl  Chicken Tikka Balti  Special Fried Rice  Curry  \\\n",
       "0                  False                False               False  False   \n",
       "1                  False                 True               False  False   \n",
       "2                   True                False               False  False   \n",
       "3                  False                False               False  False   \n",
       "4                  False                False               False  False   \n",
       "\n",
       "   Lamb Biryani  Vindaloo - Prawn  \n",
       "0         False             False  \n",
       "1         False             False  \n",
       "2         False             False  \n",
       "3         False             False  \n",
       "4         False             False  "
      ]
     },
     "execution_count": 114,
     "metadata": {},
     "output_type": "execute_result"
    }
   ],
   "source": [
    "df = df.loc[:, ~(df.columns.str.strip() == '')]\n",
    "df = df.loc[:, ~df.columns.str.contains('^Unnamed')]\n",
    "\n",
    "item_names = pd.unique(df.iloc[:, 2:].values.ravel('K'))\n",
    "item_names = [item for item in item_names if pd.notnull(item)]  # Remove NaN\n",
    "\n",
    "for item in item_names:\n",
    "    df[item] = df.apply(lambda row: item in row.values, axis=1)\n",
    "\n",
    "df = df.fillna(False)\n",
    "df = df.drop(df.columns[2:-len(item_names)], axis=1)\n",
    "\n",
    "df.to_csv(\"processed_file.csv\", index=False)\n",
    "\n",
    "df.head()"
   ]
  },
  {
   "cell_type": "markdown",
   "id": "3846c536-f79c-42ba-bf16-7ec7871fc180",
   "metadata": {},
   "source": [
    " **Order ID**: A unique number for each order. **Amount**: The total price of the order (in rupees). **Items**: Each item is shown as a separate column. The value is `True` if the item was part of the order, and `False` if it wasn't.\n",
    "\n",
    "- We only kept the important columns (like the items ordered).\n",
    "- Missing or unnecessary data has been removed.\n",
    "- The data is now in a format where it's easy to see what items were ordered in each transaction.\n",
    " \n",
    "Now, this data is ready to be used for further analysis, like finding patterns in which items are often ordered together."
   ]
  },
  {
   "cell_type": "markdown",
   "id": "3e2b47f0-78a7-4b52-a7fe-ace4a63ff9e2",
   "metadata": {},
   "source": [
    "I found that one of my columns at index 5 had no name and also all the rows were just filled with empty spaces, so I removed it using the command below."
   ]
  },
  {
   "cell_type": "code",
   "execution_count": 116,
   "id": "60811190-cf18-44d9-958b-b817c31d406c",
   "metadata": {},
   "outputs": [],
   "source": [
    "df = df.drop(df.columns[5], axis=1)"
   ]
  },
  {
   "cell_type": "code",
   "execution_count": 118,
   "id": "89728bfd-640b-41dd-848d-d1824cbd4f8d",
   "metadata": {},
   "outputs": [
    {
     "data": {
      "text/plain": [
       "Index(['ORDX0', '490Rs', 'Bhuna - Chicken', 'Korma - Lamb', 'Plain Rice',\n",
       "       'House white wine 75cl', 'Chicken Tikka Balti', 'Special Fried Rice',\n",
       "       'Curry', 'Lamb Biryani', 'Vindaloo - Prawn'],\n",
       "      dtype='object')"
      ]
     },
     "execution_count": 118,
     "metadata": {},
     "output_type": "execute_result"
    }
   ],
   "source": [
    "df.columns"
   ]
  },
  {
   "cell_type": "markdown",
   "id": "a96d791f-0196-45d1-996b-3d03072e5c08",
   "metadata": {},
   "source": [
    "#### Column Information:\n",
    "\n",
    "The dataset has 11 columns:\n",
    " 2 columns with object data type (Order ID and Amount).\n",
    " 9 columns with boolean values representing items."
   ]
  },
  {
   "cell_type": "code",
   "execution_count": 120,
   "id": "13d847b3-f587-4312-be35-f3d9037fbf40",
   "metadata": {
    "scrolled": true
   },
   "outputs": [
    {
     "data": {
      "text/html": [
       "<div>\n",
       "<style scoped>\n",
       "    .dataframe tbody tr th:only-of-type {\n",
       "        vertical-align: middle;\n",
       "    }\n",
       "\n",
       "    .dataframe tbody tr th {\n",
       "        vertical-align: top;\n",
       "    }\n",
       "\n",
       "    .dataframe thead th {\n",
       "        text-align: right;\n",
       "    }\n",
       "</style>\n",
       "<table border=\"1\" class=\"dataframe\">\n",
       "  <thead>\n",
       "    <tr style=\"text-align: right;\">\n",
       "      <th></th>\n",
       "      <th>ORDX0</th>\n",
       "      <th>490Rs</th>\n",
       "      <th>Bhuna - Chicken</th>\n",
       "      <th>Korma - Lamb</th>\n",
       "      <th>Plain Rice</th>\n",
       "      <th>House white wine 75cl</th>\n",
       "      <th>Chicken Tikka Balti</th>\n",
       "      <th>Special Fried Rice</th>\n",
       "      <th>Curry</th>\n",
       "      <th>Lamb Biryani</th>\n",
       "      <th>Vindaloo - Prawn</th>\n",
       "    </tr>\n",
       "  </thead>\n",
       "  <tbody>\n",
       "    <tr>\n",
       "      <th>0</th>\n",
       "      <td>ORDX1</td>\n",
       "      <td>446Rs</td>\n",
       "      <td>True</td>\n",
       "      <td>False</td>\n",
       "      <td>True</td>\n",
       "      <td>False</td>\n",
       "      <td>False</td>\n",
       "      <td>False</td>\n",
       "      <td>False</td>\n",
       "      <td>False</td>\n",
       "      <td>False</td>\n",
       "    </tr>\n",
       "    <tr>\n",
       "      <th>1</th>\n",
       "      <td>ORDX2</td>\n",
       "      <td>465Rs</td>\n",
       "      <td>False</td>\n",
       "      <td>False</td>\n",
       "      <td>True</td>\n",
       "      <td>False</td>\n",
       "      <td>True</td>\n",
       "      <td>False</td>\n",
       "      <td>False</td>\n",
       "      <td>False</td>\n",
       "      <td>False</td>\n",
       "    </tr>\n",
       "    <tr>\n",
       "      <th>2</th>\n",
       "      <td>ORDX3</td>\n",
       "      <td>1126Rs</td>\n",
       "      <td>True</td>\n",
       "      <td>False</td>\n",
       "      <td>False</td>\n",
       "      <td>True</td>\n",
       "      <td>False</td>\n",
       "      <td>False</td>\n",
       "      <td>False</td>\n",
       "      <td>False</td>\n",
       "      <td>False</td>\n",
       "    </tr>\n",
       "    <tr>\n",
       "      <th>3</th>\n",
       "      <td>ORDX4</td>\n",
       "      <td>435Rs</td>\n",
       "      <td>False</td>\n",
       "      <td>False</td>\n",
       "      <td>True</td>\n",
       "      <td>False</td>\n",
       "      <td>False</td>\n",
       "      <td>False</td>\n",
       "      <td>False</td>\n",
       "      <td>False</td>\n",
       "      <td>False</td>\n",
       "    </tr>\n",
       "    <tr>\n",
       "      <th>4</th>\n",
       "      <td>ORDX5</td>\n",
       "      <td>1328Rs</td>\n",
       "      <td>True</td>\n",
       "      <td>False</td>\n",
       "      <td>False</td>\n",
       "      <td>False</td>\n",
       "      <td>False</td>\n",
       "      <td>False</td>\n",
       "      <td>False</td>\n",
       "      <td>False</td>\n",
       "      <td>False</td>\n",
       "    </tr>\n",
       "  </tbody>\n",
       "</table>\n",
       "</div>"
      ],
      "text/plain": [
       "   ORDX0   490Rs  Bhuna - Chicken  Korma - Lamb  Plain Rice  \\\n",
       "0  ORDX1   446Rs             True         False        True   \n",
       "1  ORDX2   465Rs            False         False        True   \n",
       "2  ORDX3  1126Rs             True         False       False   \n",
       "3  ORDX4   435Rs            False         False        True   \n",
       "4  ORDX5  1328Rs             True         False       False   \n",
       "\n",
       "   House white wine 75cl  Chicken Tikka Balti  Special Fried Rice  Curry  \\\n",
       "0                  False                False               False  False   \n",
       "1                  False                 True               False  False   \n",
       "2                   True                False               False  False   \n",
       "3                  False                False               False  False   \n",
       "4                  False                False               False  False   \n",
       "\n",
       "   Lamb Biryani  Vindaloo - Prawn  \n",
       "0         False             False  \n",
       "1         False             False  \n",
       "2         False             False  \n",
       "3         False             False  \n",
       "4         False             False  "
      ]
     },
     "execution_count": 120,
     "metadata": {},
     "output_type": "execute_result"
    }
   ],
   "source": [
    "df.head()"
   ]
  },
  {
   "cell_type": "code",
   "execution_count": 122,
   "id": "a9522367-b366-449c-a6ac-42b54c2b80ab",
   "metadata": {},
   "outputs": [
    {
     "data": {
      "text/html": [
       "<div>\n",
       "<style scoped>\n",
       "    .dataframe tbody tr th:only-of-type {\n",
       "        vertical-align: middle;\n",
       "    }\n",
       "\n",
       "    .dataframe tbody tr th {\n",
       "        vertical-align: top;\n",
       "    }\n",
       "\n",
       "    .dataframe thead th {\n",
       "        text-align: right;\n",
       "    }\n",
       "</style>\n",
       "<table border=\"1\" class=\"dataframe\">\n",
       "  <thead>\n",
       "    <tr style=\"text-align: right;\">\n",
       "      <th></th>\n",
       "      <th>ORDX0</th>\n",
       "      <th>490Rs</th>\n",
       "      <th>Bhuna - Chicken</th>\n",
       "      <th>Korma - Lamb</th>\n",
       "      <th>Plain Rice</th>\n",
       "      <th>House white wine 75cl</th>\n",
       "      <th>Chicken Tikka Balti</th>\n",
       "      <th>Special Fried Rice</th>\n",
       "      <th>Curry</th>\n",
       "      <th>Lamb Biryani</th>\n",
       "      <th>Vindaloo - Prawn</th>\n",
       "    </tr>\n",
       "  </thead>\n",
       "  <tbody>\n",
       "    <tr>\n",
       "      <th>count</th>\n",
       "      <td>10999</td>\n",
       "      <td>10999</td>\n",
       "      <td>10999</td>\n",
       "      <td>10999</td>\n",
       "      <td>10999</td>\n",
       "      <td>10999</td>\n",
       "      <td>10999</td>\n",
       "      <td>10999</td>\n",
       "      <td>10999</td>\n",
       "      <td>10999</td>\n",
       "      <td>10999</td>\n",
       "    </tr>\n",
       "    <tr>\n",
       "      <th>unique</th>\n",
       "      <td>10999</td>\n",
       "      <td>1081</td>\n",
       "      <td>2</td>\n",
       "      <td>2</td>\n",
       "      <td>2</td>\n",
       "      <td>2</td>\n",
       "      <td>2</td>\n",
       "      <td>2</td>\n",
       "      <td>2</td>\n",
       "      <td>2</td>\n",
       "      <td>2</td>\n",
       "    </tr>\n",
       "    <tr>\n",
       "      <th>top</th>\n",
       "      <td>ORDX1</td>\n",
       "      <td>834Rs</td>\n",
       "      <td>False</td>\n",
       "      <td>False</td>\n",
       "      <td>False</td>\n",
       "      <td>False</td>\n",
       "      <td>False</td>\n",
       "      <td>False</td>\n",
       "      <td>False</td>\n",
       "      <td>False</td>\n",
       "      <td>False</td>\n",
       "    </tr>\n",
       "    <tr>\n",
       "      <th>freq</th>\n",
       "      <td>1</td>\n",
       "      <td>22</td>\n",
       "      <td>5995</td>\n",
       "      <td>10713</td>\n",
       "      <td>5905</td>\n",
       "      <td>9594</td>\n",
       "      <td>8553</td>\n",
       "      <td>9989</td>\n",
       "      <td>10268</td>\n",
       "      <td>10503</td>\n",
       "      <td>10623</td>\n",
       "    </tr>\n",
       "  </tbody>\n",
       "</table>\n",
       "</div>"
      ],
      "text/plain": [
       "        ORDX0  490Rs Bhuna - Chicken Korma - Lamb Plain Rice  \\\n",
       "count   10999  10999           10999        10999      10999   \n",
       "unique  10999   1081               2            2          2   \n",
       "top     ORDX1  834Rs           False        False      False   \n",
       "freq        1     22            5995        10713       5905   \n",
       "\n",
       "       House white wine 75cl Chicken Tikka Balti Special Fried Rice  Curry  \\\n",
       "count                  10999               10999              10999  10999   \n",
       "unique                     2                   2                  2      2   \n",
       "top                    False               False              False  False   \n",
       "freq                    9594                8553               9989  10268   \n",
       "\n",
       "       Lamb Biryani Vindaloo - Prawn  \n",
       "count         10999            10999  \n",
       "unique            2                2  \n",
       "top           False            False  \n",
       "freq          10503            10623  "
      ]
     },
     "execution_count": 122,
     "metadata": {},
     "output_type": "execute_result"
    }
   ],
   "source": [
    "df.describe()"
   ]
  },
  {
   "cell_type": "markdown",
   "id": "e1be44bc-7d47-4129-96ac-f13bd76a4dc0",
   "metadata": {},
   "source": [
    "Here we can see  summary statistics of the dataset.\n",
    "The **count** of non-null values in each column is 10,999 (which means there are no missing values in the dataset).For boolean columns (representing items), the **unique** value count is 2 (`True` or `False`).The **top** (most common) value for each item column is `False` (indicating that most items were not ordered in many cases).The **frequency** shows the number of times the `False` value appears for each item, and the top item (with the highest frequency of `False`) is mostly not ordered."
   ]
  },
  {
   "cell_type": "code",
   "execution_count": 124,
   "id": "3ab60301-bc19-4c03-9a40-4118159dc430",
   "metadata": {},
   "outputs": [
    {
     "name": "stdout",
     "output_type": "stream",
     "text": [
      "<class 'pandas.core.frame.DataFrame'>\n",
      "RangeIndex: 10999 entries, 0 to 10998\n",
      "Data columns (total 11 columns):\n",
      " #   Column                 Non-Null Count  Dtype \n",
      "---  ------                 --------------  ----- \n",
      " 0   ORDX0                  10999 non-null  object\n",
      " 1   490Rs                  10999 non-null  object\n",
      " 2   Bhuna - Chicken        10999 non-null  bool  \n",
      " 3   Korma - Lamb           10999 non-null  bool  \n",
      " 4   Plain Rice             10999 non-null  bool  \n",
      " 5   House white wine 75cl  10999 non-null  bool  \n",
      " 6   Chicken Tikka Balti    10999 non-null  bool  \n",
      " 7   Special Fried Rice     10999 non-null  bool  \n",
      " 8   Curry                  10999 non-null  bool  \n",
      " 9   Lamb Biryani           10999 non-null  bool  \n",
      " 10  Vindaloo - Prawn       10999 non-null  bool  \n",
      "dtypes: bool(9), object(2)\n",
      "memory usage: 268.7+ KB\n"
     ]
    }
   ],
   "source": [
    "df.info()"
   ]
  },
  {
   "cell_type": "markdown",
   "id": "e8e4957f-7a05-4e74-9407-1d875d4b58dc",
   "metadata": {},
   "source": [
    "The dataset now contains the following columns and data types:\n",
    "**ORDX0**: The order ID, represented as a unique identifier for each order.**490Rs**: The total amount of the order, shown as a string (e.g., \"446Rs\").**Items**: Each menu item, such as \"Bhuna - Chicken,\" \"Korma - Lamb,\" etc., represented by a boolean value (`True` or `False`) to indicate whether the item was ordered in that transaction."
   ]
  },
  {
   "cell_type": "code",
   "execution_count": 126,
   "id": "1ec8684f-b23e-40f6-9091-9b8d5a7be1a7",
   "metadata": {},
   "outputs": [
    {
     "data": {
      "text/html": [
       "<div>\n",
       "<style scoped>\n",
       "    .dataframe tbody tr th:only-of-type {\n",
       "        vertical-align: middle;\n",
       "    }\n",
       "\n",
       "    .dataframe tbody tr th {\n",
       "        vertical-align: top;\n",
       "    }\n",
       "\n",
       "    .dataframe thead th {\n",
       "        text-align: right;\n",
       "    }\n",
       "</style>\n",
       "<table border=\"1\" class=\"dataframe\">\n",
       "  <thead>\n",
       "    <tr style=\"text-align: right;\">\n",
       "      <th></th>\n",
       "      <th>ORDX0</th>\n",
       "      <th>490Rs</th>\n",
       "      <th>Bhuna - Chicken</th>\n",
       "      <th>Korma - Lamb</th>\n",
       "      <th>Plain Rice</th>\n",
       "      <th>House white wine 75cl</th>\n",
       "      <th>Chicken Tikka Balti</th>\n",
       "      <th>Special Fried Rice</th>\n",
       "      <th>Curry</th>\n",
       "      <th>Lamb Biryani</th>\n",
       "      <th>Vindaloo - Prawn</th>\n",
       "    </tr>\n",
       "  </thead>\n",
       "  <tbody>\n",
       "    <tr>\n",
       "      <th>0</th>\n",
       "      <td>ORDX1</td>\n",
       "      <td>446Rs</td>\n",
       "      <td>True</td>\n",
       "      <td>False</td>\n",
       "      <td>True</td>\n",
       "      <td>False</td>\n",
       "      <td>False</td>\n",
       "      <td>False</td>\n",
       "      <td>False</td>\n",
       "      <td>False</td>\n",
       "      <td>False</td>\n",
       "    </tr>\n",
       "    <tr>\n",
       "      <th>1</th>\n",
       "      <td>ORDX2</td>\n",
       "      <td>465Rs</td>\n",
       "      <td>False</td>\n",
       "      <td>False</td>\n",
       "      <td>True</td>\n",
       "      <td>False</td>\n",
       "      <td>True</td>\n",
       "      <td>False</td>\n",
       "      <td>False</td>\n",
       "      <td>False</td>\n",
       "      <td>False</td>\n",
       "    </tr>\n",
       "    <tr>\n",
       "      <th>2</th>\n",
       "      <td>ORDX3</td>\n",
       "      <td>1126Rs</td>\n",
       "      <td>True</td>\n",
       "      <td>False</td>\n",
       "      <td>False</td>\n",
       "      <td>True</td>\n",
       "      <td>False</td>\n",
       "      <td>False</td>\n",
       "      <td>False</td>\n",
       "      <td>False</td>\n",
       "      <td>False</td>\n",
       "    </tr>\n",
       "    <tr>\n",
       "      <th>3</th>\n",
       "      <td>ORDX4</td>\n",
       "      <td>435Rs</td>\n",
       "      <td>False</td>\n",
       "      <td>False</td>\n",
       "      <td>True</td>\n",
       "      <td>False</td>\n",
       "      <td>False</td>\n",
       "      <td>False</td>\n",
       "      <td>False</td>\n",
       "      <td>False</td>\n",
       "      <td>False</td>\n",
       "    </tr>\n",
       "    <tr>\n",
       "      <th>4</th>\n",
       "      <td>ORDX5</td>\n",
       "      <td>1328Rs</td>\n",
       "      <td>True</td>\n",
       "      <td>False</td>\n",
       "      <td>False</td>\n",
       "      <td>False</td>\n",
       "      <td>False</td>\n",
       "      <td>False</td>\n",
       "      <td>False</td>\n",
       "      <td>False</td>\n",
       "      <td>False</td>\n",
       "    </tr>\n",
       "    <tr>\n",
       "      <th>...</th>\n",
       "      <td>...</td>\n",
       "      <td>...</td>\n",
       "      <td>...</td>\n",
       "      <td>...</td>\n",
       "      <td>...</td>\n",
       "      <td>...</td>\n",
       "      <td>...</td>\n",
       "      <td>...</td>\n",
       "      <td>...</td>\n",
       "      <td>...</td>\n",
       "      <td>...</td>\n",
       "    </tr>\n",
       "    <tr>\n",
       "      <th>10994</th>\n",
       "      <td>ORDX10995</td>\n",
       "      <td>652Rs</td>\n",
       "      <td>False</td>\n",
       "      <td>False</td>\n",
       "      <td>True</td>\n",
       "      <td>True</td>\n",
       "      <td>False</td>\n",
       "      <td>False</td>\n",
       "      <td>False</td>\n",
       "      <td>False</td>\n",
       "      <td>False</td>\n",
       "    </tr>\n",
       "    <tr>\n",
       "      <th>10995</th>\n",
       "      <td>ORDX10996</td>\n",
       "      <td>769Rs</td>\n",
       "      <td>True</td>\n",
       "      <td>False</td>\n",
       "      <td>False</td>\n",
       "      <td>False</td>\n",
       "      <td>True</td>\n",
       "      <td>False</td>\n",
       "      <td>False</td>\n",
       "      <td>False</td>\n",
       "      <td>False</td>\n",
       "    </tr>\n",
       "    <tr>\n",
       "      <th>10996</th>\n",
       "      <td>ORDX10997</td>\n",
       "      <td>685Rs</td>\n",
       "      <td>False</td>\n",
       "      <td>False</td>\n",
       "      <td>True</td>\n",
       "      <td>False</td>\n",
       "      <td>False</td>\n",
       "      <td>False</td>\n",
       "      <td>False</td>\n",
       "      <td>False</td>\n",
       "      <td>False</td>\n",
       "    </tr>\n",
       "    <tr>\n",
       "      <th>10997</th>\n",
       "      <td>ORDX10998</td>\n",
       "      <td>485Rs</td>\n",
       "      <td>True</td>\n",
       "      <td>False</td>\n",
       "      <td>True</td>\n",
       "      <td>False</td>\n",
       "      <td>False</td>\n",
       "      <td>False</td>\n",
       "      <td>False</td>\n",
       "      <td>False</td>\n",
       "      <td>False</td>\n",
       "    </tr>\n",
       "    <tr>\n",
       "      <th>10998</th>\n",
       "      <td>ORDX10999</td>\n",
       "      <td>714Rs</td>\n",
       "      <td>False</td>\n",
       "      <td>False</td>\n",
       "      <td>False</td>\n",
       "      <td>False</td>\n",
       "      <td>False</td>\n",
       "      <td>False</td>\n",
       "      <td>True</td>\n",
       "      <td>False</td>\n",
       "      <td>False</td>\n",
       "    </tr>\n",
       "  </tbody>\n",
       "</table>\n",
       "<p>10999 rows × 11 columns</p>\n",
       "</div>"
      ],
      "text/plain": [
       "           ORDX0   490Rs  Bhuna - Chicken  Korma - Lamb  Plain Rice  \\\n",
       "0          ORDX1   446Rs             True         False        True   \n",
       "1          ORDX2   465Rs            False         False        True   \n",
       "2          ORDX3  1126Rs             True         False       False   \n",
       "3          ORDX4   435Rs            False         False        True   \n",
       "4          ORDX5  1328Rs             True         False       False   \n",
       "...          ...     ...              ...           ...         ...   \n",
       "10994  ORDX10995   652Rs            False         False        True   \n",
       "10995  ORDX10996   769Rs             True         False       False   \n",
       "10996  ORDX10997   685Rs            False         False        True   \n",
       "10997  ORDX10998   485Rs             True         False        True   \n",
       "10998  ORDX10999   714Rs            False         False       False   \n",
       "\n",
       "       House white wine 75cl  Chicken Tikka Balti  Special Fried Rice  Curry  \\\n",
       "0                      False                False               False  False   \n",
       "1                      False                 True               False  False   \n",
       "2                       True                False               False  False   \n",
       "3                      False                False               False  False   \n",
       "4                      False                False               False  False   \n",
       "...                      ...                  ...                 ...    ...   \n",
       "10994                   True                False               False  False   \n",
       "10995                  False                 True               False  False   \n",
       "10996                  False                False               False  False   \n",
       "10997                  False                False               False  False   \n",
       "10998                  False                False               False   True   \n",
       "\n",
       "       Lamb Biryani  Vindaloo - Prawn  \n",
       "0             False             False  \n",
       "1             False             False  \n",
       "2             False             False  \n",
       "3             False             False  \n",
       "4             False             False  \n",
       "...             ...               ...  \n",
       "10994         False             False  \n",
       "10995         False             False  \n",
       "10996         False             False  \n",
       "10997         False             False  \n",
       "10998         False             False  \n",
       "\n",
       "[10999 rows x 11 columns]"
      ]
     },
     "execution_count": 126,
     "metadata": {},
     "output_type": "execute_result"
    }
   ],
   "source": [
    "df"
   ]
  },
  {
   "cell_type": "code",
   "execution_count": 128,
   "id": "fe9c821d-24e1-46d5-a6a0-a7b7d1f7e24b",
   "metadata": {},
   "outputs": [
    {
     "name": "stdout",
     "output_type": "stream",
     "text": [
      "Plain Rice               5094\n",
      "Bhuna - Chicken          5004\n",
      "Chicken Tikka Balti      2446\n",
      "House white wine 75cl    1405\n",
      "Special Fried Rice       1010\n",
      "Curry                     731\n",
      "Lamb Biryani              496\n",
      "Vindaloo - Prawn          376\n",
      "Korma - Lamb              286\n",
      "dtype: int64\n"
     ]
    }
   ],
   "source": [
    "product_columns = df.drop(columns=['ORDX0', '490Rs'])\n",
    "product_counts = product_columns.sum().sort_values(ascending=False)\n",
    "top_10_products = product_counts.head(10)\n",
    "print(top_10_products)"
   ]
  },
  {
   "cell_type": "markdown",
   "id": "fe06cacd-feb1-49c0-9ec9-c9c98006213f",
   "metadata": {},
   "source": [
    "### Top 10 Most Ordered Products\n",
    "\n",
    "After processing the dataset, we analyzed the frequency of each item ordered across all transactions. I removed  the **ORDX0** (Order ID) and **490Rs** (Amount) columns and sums the boolean values (`True` or `False`) for each product column to count the number of times each item was ordered.\n",
    "\n",
    "Above you can see numeric values of top 10 products , and for better understanding below I have tried to visualize this with a bar chart.\n",
    "\n",
    "These products are the most frequently ordered in the restaurant dataset, with **Plain Rice** and **Bhuna - Chicken** being the top two most popular items. This information can be useful for identifying customer preferences and planning inventory or promotional strategies.\n"
   ]
  },
  {
   "cell_type": "code",
   "execution_count": 131,
   "id": "134c3371-8428-4deb-8d1f-d190898c8421",
   "metadata": {},
   "outputs": [
    {
     "data": {
      "image/png": "[encoded data removed]",
      "text/plain": [
       "<Figure size 640x480 with 1 Axes>"
      ]
     },
     "metadata": {},
     "output_type": "display_data"
    }
   ],
   "source": [
    "products = ['Plain Rice', 'Bhuna - Chicken', 'Chicken Tikka Balti', 'House white wine 75cl', \n",
    "            'Special Fried Rice', 'Curry', 'Lamb Biryani', 'Vindaloo - Prawn', 'Korma - Lamb']\n",
    "counts = [5094, 5004, 2446, 1405, 1010, 731, 496, 376, 286]\n",
    "plt.barh(products, counts, color='blue')\n",
    "plt.xlabel('Frequency')\n",
    "plt.title('Top 10 Most Frequent Products')\n",
    "plt.gca().invert_yaxis()\n",
    "plt.show()"
   ]
  },
  {
   "cell_type": "code",
   "execution_count": 133,
   "id": "d962e960-1739-404b-be29-13e1aefa2387",
   "metadata": {},
   "outputs": [
    {
     "data": {
      "text/plain": [
       "10999"
      ]
     },
     "execution_count": 133,
     "metadata": {},
     "output_type": "execute_result"
    }
   ],
   "source": [
    "len(df)"
   ]
  },
  {
   "cell_type": "code",
   "execution_count": 135,
   "id": "4f7536ff-0bbf-454f-80c3-3e2a741874c1",
   "metadata": {},
   "outputs": [
    {
     "data": {
      "text/html": [
       "<div>\n",
       "<style scoped>\n",
       "    .dataframe tbody tr th:only-of-type {\n",
       "        vertical-align: middle;\n",
       "    }\n",
       "\n",
       "    .dataframe tbody tr th {\n",
       "        vertical-align: top;\n",
       "    }\n",
       "\n",
       "    .dataframe thead th {\n",
       "        text-align: right;\n",
       "    }\n",
       "</style>\n",
       "<table border=\"1\" class=\"dataframe\">\n",
       "  <thead>\n",
       "    <tr style=\"text-align: right;\">\n",
       "      <th></th>\n",
       "      <th>support</th>\n",
       "      <th>itemsets</th>\n",
       "    </tr>\n",
       "  </thead>\n",
       "  <tbody>\n",
       "    <tr>\n",
       "      <th>0</th>\n",
       "      <td>0.454950</td>\n",
       "      <td>(Bhuna - Chicken)</td>\n",
       "    </tr>\n",
       "    <tr>\n",
       "      <th>1</th>\n",
       "      <td>0.026002</td>\n",
       "      <td>(Korma - Lamb)</td>\n",
       "    </tr>\n",
       "    <tr>\n",
       "      <th>2</th>\n",
       "      <td>0.463133</td>\n",
       "      <td>(Plain Rice)</td>\n",
       "    </tr>\n",
       "    <tr>\n",
       "      <th>3</th>\n",
       "      <td>0.127739</td>\n",
       "      <td>(House white wine 75cl)</td>\n",
       "    </tr>\n",
       "    <tr>\n",
       "      <th>4</th>\n",
       "      <td>0.222384</td>\n",
       "      <td>(Chicken Tikka Balti)</td>\n",
       "    </tr>\n",
       "    <tr>\n",
       "      <th>5</th>\n",
       "      <td>0.091827</td>\n",
       "      <td>(Special Fried Rice)</td>\n",
       "    </tr>\n",
       "    <tr>\n",
       "      <th>6</th>\n",
       "      <td>0.066461</td>\n",
       "      <td>(Curry)</td>\n",
       "    </tr>\n",
       "    <tr>\n",
       "      <th>7</th>\n",
       "      <td>0.045095</td>\n",
       "      <td>(Lamb Biryani)</td>\n",
       "    </tr>\n",
       "    <tr>\n",
       "      <th>8</th>\n",
       "      <td>0.034185</td>\n",
       "      <td>(Vindaloo - Prawn)</td>\n",
       "    </tr>\n",
       "    <tr>\n",
       "      <th>9</th>\n",
       "      <td>0.214747</td>\n",
       "      <td>(Plain Rice, Bhuna - Chicken)</td>\n",
       "    </tr>\n",
       "    <tr>\n",
       "      <th>10</th>\n",
       "      <td>0.031548</td>\n",
       "      <td>(House white wine 75cl, Bhuna - Chicken)</td>\n",
       "    </tr>\n",
       "    <tr>\n",
       "      <th>11</th>\n",
       "      <td>0.108373</td>\n",
       "      <td>(Chicken Tikka Balti, Bhuna - Chicken)</td>\n",
       "    </tr>\n",
       "    <tr>\n",
       "      <th>12</th>\n",
       "      <td>0.020275</td>\n",
       "      <td>(Special Fried Rice, Bhuna - Chicken)</td>\n",
       "    </tr>\n",
       "    <tr>\n",
       "      <th>13</th>\n",
       "      <td>0.010092</td>\n",
       "      <td>(Curry, Bhuna - Chicken)</td>\n",
       "    </tr>\n",
       "    <tr>\n",
       "      <th>14</th>\n",
       "      <td>0.032821</td>\n",
       "      <td>(Plain Rice, House white wine 75cl)</td>\n",
       "    </tr>\n",
       "    <tr>\n",
       "      <th>15</th>\n",
       "      <td>0.114010</td>\n",
       "      <td>(Plain Rice, Chicken Tikka Balti)</td>\n",
       "    </tr>\n",
       "    <tr>\n",
       "      <th>16</th>\n",
       "      <td>0.018638</td>\n",
       "      <td>(Plain Rice, Special Fried Rice)</td>\n",
       "    </tr>\n",
       "    <tr>\n",
       "      <th>17</th>\n",
       "      <td>0.012728</td>\n",
       "      <td>(Plain Rice, Curry)</td>\n",
       "    </tr>\n",
       "  </tbody>\n",
       "</table>\n",
       "</div>"
      ],
      "text/plain": [
       "     support                                  itemsets\n",
       "0   0.454950                         (Bhuna - Chicken)\n",
       "1   0.026002                            (Korma - Lamb)\n",
       "2   0.463133                              (Plain Rice)\n",
       "3   0.127739                   (House white wine 75cl)\n",
       "4   0.222384                     (Chicken Tikka Balti)\n",
       "5   0.091827                      (Special Fried Rice)\n",
       "6   0.066461                                   (Curry)\n",
       "7   0.045095                            (Lamb Biryani)\n",
       "8   0.034185                        (Vindaloo - Prawn)\n",
       "9   0.214747             (Plain Rice, Bhuna - Chicken)\n",
       "10  0.031548  (House white wine 75cl, Bhuna - Chicken)\n",
       "11  0.108373    (Chicken Tikka Balti, Bhuna - Chicken)\n",
       "12  0.020275     (Special Fried Rice, Bhuna - Chicken)\n",
       "13  0.010092                  (Curry, Bhuna - Chicken)\n",
       "14  0.032821       (Plain Rice, House white wine 75cl)\n",
       "15  0.114010         (Plain Rice, Chicken Tikka Balti)\n",
       "16  0.018638          (Plain Rice, Special Fried Rice)\n",
       "17  0.012728                       (Plain Rice, Curry)"
      ]
     },
     "execution_count": 135,
     "metadata": {},
     "output_type": "execute_result"
    }
   ],
   "source": [
    "frequent_itemsets_apriori = apriori(product_columns, min_support=0.01, use_colnames=True)\n",
    "frequent_itemsets_apriori"
   ]
  },
  {
   "cell_type": "code",
   "execution_count": 137,
   "id": "0493464e-deb7-41ae-ad57-4cc5c37dc180",
   "metadata": {},
   "outputs": [
    {
     "data": {
      "text/html": [
       "<div>\n",
       "<style scoped>\n",
       "    .dataframe tbody tr th:only-of-type {\n",
       "        vertical-align: middle;\n",
       "    }\n",
       "\n",
       "    .dataframe tbody tr th {\n",
       "        vertical-align: top;\n",
       "    }\n",
       "\n",
       "    .dataframe thead th {\n",
       "        text-align: right;\n",
       "    }\n",
       "</style>\n",
       "<table border=\"1\" class=\"dataframe\">\n",
       "  <thead>\n",
       "    <tr style=\"text-align: right;\">\n",
       "      <th></th>\n",
       "      <th>support</th>\n",
       "      <th>itemsets</th>\n",
       "    </tr>\n",
       "  </thead>\n",
       "  <tbody>\n",
       "    <tr>\n",
       "      <th>0</th>\n",
       "      <td>0.454950</td>\n",
       "      <td>(Bhuna - Chicken)</td>\n",
       "    </tr>\n",
       "    <tr>\n",
       "      <th>1</th>\n",
       "      <td>0.026002</td>\n",
       "      <td>(Korma - Lamb)</td>\n",
       "    </tr>\n",
       "    <tr>\n",
       "      <th>2</th>\n",
       "      <td>0.463133</td>\n",
       "      <td>(Plain Rice)</td>\n",
       "    </tr>\n",
       "    <tr>\n",
       "      <th>3</th>\n",
       "      <td>0.127739</td>\n",
       "      <td>(House white wine 75cl)</td>\n",
       "    </tr>\n",
       "    <tr>\n",
       "      <th>4</th>\n",
       "      <td>0.222384</td>\n",
       "      <td>(Chicken Tikka Balti)</td>\n",
       "    </tr>\n",
       "    <tr>\n",
       "      <th>5</th>\n",
       "      <td>0.091827</td>\n",
       "      <td>(Special Fried Rice)</td>\n",
       "    </tr>\n",
       "    <tr>\n",
       "      <th>6</th>\n",
       "      <td>0.066461</td>\n",
       "      <td>(Curry)</td>\n",
       "    </tr>\n",
       "    <tr>\n",
       "      <th>7</th>\n",
       "      <td>0.045095</td>\n",
       "      <td>(Lamb Biryani)</td>\n",
       "    </tr>\n",
       "    <tr>\n",
       "      <th>8</th>\n",
       "      <td>0.034185</td>\n",
       "      <td>(Vindaloo - Prawn)</td>\n",
       "    </tr>\n",
       "    <tr>\n",
       "      <th>9</th>\n",
       "      <td>0.214747</td>\n",
       "      <td>(Plain Rice, Bhuna - Chicken)</td>\n",
       "    </tr>\n",
       "    <tr>\n",
       "      <th>10</th>\n",
       "      <td>0.031548</td>\n",
       "      <td>(House white wine 75cl, Bhuna - Chicken)</td>\n",
       "    </tr>\n",
       "    <tr>\n",
       "      <th>11</th>\n",
       "      <td>0.108373</td>\n",
       "      <td>(Chicken Tikka Balti, Bhuna - Chicken)</td>\n",
       "    </tr>\n",
       "    <tr>\n",
       "      <th>12</th>\n",
       "      <td>0.020275</td>\n",
       "      <td>(Special Fried Rice, Bhuna - Chicken)</td>\n",
       "    </tr>\n",
       "    <tr>\n",
       "      <th>13</th>\n",
       "      <td>0.010092</td>\n",
       "      <td>(Curry, Bhuna - Chicken)</td>\n",
       "    </tr>\n",
       "    <tr>\n",
       "      <th>14</th>\n",
       "      <td>0.032821</td>\n",
       "      <td>(Plain Rice, House white wine 75cl)</td>\n",
       "    </tr>\n",
       "    <tr>\n",
       "      <th>15</th>\n",
       "      <td>0.114010</td>\n",
       "      <td>(Plain Rice, Chicken Tikka Balti)</td>\n",
       "    </tr>\n",
       "    <tr>\n",
       "      <th>16</th>\n",
       "      <td>0.018638</td>\n",
       "      <td>(Plain Rice, Special Fried Rice)</td>\n",
       "    </tr>\n",
       "    <tr>\n",
       "      <th>17</th>\n",
       "      <td>0.012728</td>\n",
       "      <td>(Plain Rice, Curry)</td>\n",
       "    </tr>\n",
       "  </tbody>\n",
       "</table>\n",
       "</div>"
      ],
      "text/plain": [
       "     support                                  itemsets\n",
       "0   0.454950                         (Bhuna - Chicken)\n",
       "1   0.026002                            (Korma - Lamb)\n",
       "2   0.463133                              (Plain Rice)\n",
       "3   0.127739                   (House white wine 75cl)\n",
       "4   0.222384                     (Chicken Tikka Balti)\n",
       "5   0.091827                      (Special Fried Rice)\n",
       "6   0.066461                                   (Curry)\n",
       "7   0.045095                            (Lamb Biryani)\n",
       "8   0.034185                        (Vindaloo - Prawn)\n",
       "9   0.214747             (Plain Rice, Bhuna - Chicken)\n",
       "10  0.031548  (House white wine 75cl, Bhuna - Chicken)\n",
       "11  0.108373    (Chicken Tikka Balti, Bhuna - Chicken)\n",
       "12  0.020275     (Special Fried Rice, Bhuna - Chicken)\n",
       "13  0.010092                  (Curry, Bhuna - Chicken)\n",
       "14  0.032821       (Plain Rice, House white wine 75cl)\n",
       "15  0.114010         (Plain Rice, Chicken Tikka Balti)\n",
       "16  0.018638          (Plain Rice, Special Fried Rice)\n",
       "17  0.012728                       (Plain Rice, Curry)"
      ]
     },
     "execution_count": 137,
     "metadata": {},
     "output_type": "execute_result"
    }
   ],
   "source": [
    "min_support = 0.01 \n",
    "frequent_itemsets = apriori(product_columns, min_support=min_support, use_colnames=True)\n",
    "frequent_itemsets"
   ]
  },
  {
   "cell_type": "markdown",
   "id": "0729d634-bcdb-4457-b7e7-acb80379488a",
   "metadata": {},
   "source": [
    "I  applied the **Apriori algorithm** to find frequent itemsets from the dataset, with a minimum support of 0.01 (1%). This means i am looking for itemsets that appear in at least 1% of the transactions.\n",
    "\n",
    "Here are the top frequent itemsets found by the Apriori algorithm, including both individual items and combinations of items:\n",
    "\n",
    "#### Most Frequent Individual Itemsets:\n",
    "- **Bhuna - Chicken**: Appears in 45.5% of the transactions\n",
    "- **Plain Rice**: Appears in 46.3% of the transactions\n",
    "- **Korma - Lamb**: Appears in 2.6% of the transactions\n",
    "- **House white wine 75cl**: Appears in 12.8% of the transactions\n",
    "- **Chicken Tikka Balti**: Appears in 22.2% of the transactions\n",
    "- **Special Fried Rice**: Appears in 9.2% of the transactions\n",
    "- **Curry**: Appears in 6.6% of the transactions\n",
    "- **Lamb Biryani**: Appears in 4.5% of the transactions\n",
    "- **Vindaloo - Prawn**: Appears in 3.4% of the transactions\n",
    "\n",
    "#### Frequent Item Combinations:\n",
    "- **Plain Rice, Bhuna - Chicken**: Appears in 21.5% of the transactions\n",
    "- **House white wine 75cl, Bhuna - Chicken**: Appears in 3.2% of the transactions\n",
    "- **Chicken Tikka Balti, Bhuna - Chicken**: Appears in 10.8% of the transactions\n",
    "- **Special Fried Rice, Bhuna - Chicken**: Appears in 2.0% of the transactions\n",
    "- **Curry, Bhuna - Chicken**: Appears in 1.0% of the transactions\n",
    "- **Plain Rice, House white wine 75cl**: Appears in 3.3% of the transactions\n",
    "- **Plain Rice, Chicken Tikka Balti**: Appears in 11.4% of the transactions\n",
    "- **Plain Rice, Special Fried Rice**: Appears in 1.9% of the transactions\n",
    "- **Plain Rice, Curry**: Appears in 1.3% of the transactions\n",
    "\n",
    "In a short  it says that  **Plain Rice** and **Bhuna - Chicken** are the two most popular items, both individually and in combination.**Chicken Tikka Balti** frequently appears with **Bhuna - Chicken**.**Plain Rice** is often ordered alongside other items like **Chicken Tikka Balti** and **House white wine 75cl**.\n",
    "\n"
   ]
  },
  {
   "cell_type": "code",
   "execution_count": 139,
   "id": "9b225d41-54b8-40e0-9f7d-db208f12c4d8",
   "metadata": {},
   "outputs": [
    {
     "name": "stdout",
     "output_type": "stream",
     "text": [
      "    support                 itemsets\n",
      "0  0.454950        (Bhuna - Chicken)\n",
      "1  0.026002           (Korma - Lamb)\n",
      "2  0.463133             (Plain Rice)\n",
      "3  0.127739  (House white wine 75cl)\n",
      "4  0.222384    (Chicken Tikka Balti)\n"
     ]
    },
    {
     "data": {
      "text/plain": [
       "Index(['support', 'itemsets'], dtype='object')"
      ]
     },
     "execution_count": 139,
     "metadata": {},
     "output_type": "execute_result"
    }
   ],
   "source": [
    "print(frequent_itemsets.head())\n",
    "frequent_itemsets.columns"
   ]
  },
  {
   "cell_type": "code",
   "execution_count": 141,
   "id": "d396ac37-2b6e-4447-917a-ff394544a03e",
   "metadata": {},
   "outputs": [],
   "source": [
    "from mlxtend.frequent_patterns import apriori\n",
    "frequent_itemsets = apriori(product_columns, min_support=0.01, use_colnames=True)"
   ]
  },
  {
   "cell_type": "code",
   "execution_count": 143,
   "id": "76038df8-1bf8-46ce-93a9-c8fba48e2e01",
   "metadata": {},
   "outputs": [
    {
     "name": "stdout",
     "output_type": "stream",
     "text": [
      "0.21.0\n",
      "     support                                  itemsets\n",
      "0   0.454950                         (Bhuna - Chicken)\n",
      "1   0.026002                            (Korma - Lamb)\n",
      "2   0.463133                              (Plain Rice)\n",
      "3   0.127739                   (House white wine 75cl)\n",
      "4   0.222384                     (Chicken Tikka Balti)\n",
      "5   0.091827                      (Special Fried Rice)\n",
      "6   0.066461                                   (Curry)\n",
      "7   0.045095                            (Lamb Biryani)\n",
      "8   0.034185                        (Vindaloo - Prawn)\n",
      "9   0.214747             (Plain Rice, Bhuna - Chicken)\n",
      "10  0.031548  (House white wine 75cl, Bhuna - Chicken)\n",
      "11  0.108373    (Chicken Tikka Balti, Bhuna - Chicken)\n",
      "12  0.020275     (Special Fried Rice, Bhuna - Chicken)\n",
      "13  0.010092                  (Curry, Bhuna - Chicken)\n",
      "14  0.032821       (Plain Rice, House white wine 75cl)\n",
      "15  0.114010         (Plain Rice, Chicken Tikka Balti)\n",
      "16  0.018638          (Plain Rice, Special Fried Rice)\n",
      "17  0.012728                       (Plain Rice, Curry)\n"
     ]
    }
   ],
   "source": [
    "import mlxtend\n",
    "print(mlxtend.__version__)\n",
    "print(frequent_itemsets) "
   ]
  },
  {
   "cell_type": "code",
   "execution_count": 145,
   "id": "e7a9458d-fa64-4f45-b799-3a5a9f4ecd96",
   "metadata": {},
   "outputs": [
    {
     "data": {
      "text/html": [
       "<div>\n",
       "<style scoped>\n",
       "    .dataframe tbody tr th:only-of-type {\n",
       "        vertical-align: middle;\n",
       "    }\n",
       "\n",
       "    .dataframe tbody tr th {\n",
       "        vertical-align: top;\n",
       "    }\n",
       "\n",
       "    .dataframe thead th {\n",
       "        text-align: right;\n",
       "    }\n",
       "</style>\n",
       "<table border=\"1\" class=\"dataframe\">\n",
       "  <thead>\n",
       "    <tr style=\"text-align: right;\">\n",
       "      <th></th>\n",
       "      <th>antecedents</th>\n",
       "      <th>consequents</th>\n",
       "      <th>antecedent support</th>\n",
       "      <th>consequent support</th>\n",
       "      <th>support</th>\n",
       "      <th>confidence</th>\n",
       "      <th>lift</th>\n",
       "      <th>leverage</th>\n",
       "      <th>conviction</th>\n",
       "    </tr>\n",
       "  </thead>\n",
       "  <tbody>\n",
       "    <tr>\n",
       "      <th>0</th>\n",
       "      <td>(Plain Rice)</td>\n",
       "      <td>(Bhuna - Chicken)</td>\n",
       "      <td>0.463133</td>\n",
       "      <td>0.454950</td>\n",
       "      <td>0.214747</td>\n",
       "      <td>0.463683</td>\n",
       "      <td>1.019194</td>\n",
       "      <td>0.004044</td>\n",
       "      <td>1.016282</td>\n",
       "    </tr>\n",
       "    <tr>\n",
       "      <th>1</th>\n",
       "      <td>(Bhuna - Chicken)</td>\n",
       "      <td>(Plain Rice)</td>\n",
       "      <td>0.454950</td>\n",
       "      <td>0.463133</td>\n",
       "      <td>0.214747</td>\n",
       "      <td>0.472022</td>\n",
       "      <td>1.019194</td>\n",
       "      <td>0.004044</td>\n",
       "      <td>1.016837</td>\n",
       "    </tr>\n",
       "    <tr>\n",
       "      <th>2</th>\n",
       "      <td>(House white wine 75cl)</td>\n",
       "      <td>(Bhuna - Chicken)</td>\n",
       "      <td>0.127739</td>\n",
       "      <td>0.454950</td>\n",
       "      <td>0.031548</td>\n",
       "      <td>0.246975</td>\n",
       "      <td>0.542862</td>\n",
       "      <td>-0.026567</td>\n",
       "      <td>0.723813</td>\n",
       "    </tr>\n",
       "    <tr>\n",
       "      <th>3</th>\n",
       "      <td>(Bhuna - Chicken)</td>\n",
       "      <td>(House white wine 75cl)</td>\n",
       "      <td>0.454950</td>\n",
       "      <td>0.127739</td>\n",
       "      <td>0.031548</td>\n",
       "      <td>0.069345</td>\n",
       "      <td>0.542862</td>\n",
       "      <td>-0.026567</td>\n",
       "      <td>0.937255</td>\n",
       "    </tr>\n",
       "    <tr>\n",
       "      <th>4</th>\n",
       "      <td>(Chicken Tikka Balti)</td>\n",
       "      <td>(Bhuna - Chicken)</td>\n",
       "      <td>0.222384</td>\n",
       "      <td>0.454950</td>\n",
       "      <td>0.108373</td>\n",
       "      <td>0.487326</td>\n",
       "      <td>1.071163</td>\n",
       "      <td>0.007200</td>\n",
       "      <td>1.063151</td>\n",
       "    </tr>\n",
       "    <tr>\n",
       "      <th>5</th>\n",
       "      <td>(Bhuna - Chicken)</td>\n",
       "      <td>(Chicken Tikka Balti)</td>\n",
       "      <td>0.454950</td>\n",
       "      <td>0.222384</td>\n",
       "      <td>0.108373</td>\n",
       "      <td>0.238209</td>\n",
       "      <td>1.071163</td>\n",
       "      <td>0.007200</td>\n",
       "      <td>1.020774</td>\n",
       "    </tr>\n",
       "    <tr>\n",
       "      <th>6</th>\n",
       "      <td>(Special Fried Rice)</td>\n",
       "      <td>(Bhuna - Chicken)</td>\n",
       "      <td>0.091827</td>\n",
       "      <td>0.454950</td>\n",
       "      <td>0.020275</td>\n",
       "      <td>0.220792</td>\n",
       "      <td>0.485310</td>\n",
       "      <td>-0.021502</td>\n",
       "      <td>0.699492</td>\n",
       "    </tr>\n",
       "    <tr>\n",
       "      <th>7</th>\n",
       "      <td>(Bhuna - Chicken)</td>\n",
       "      <td>(Special Fried Rice)</td>\n",
       "      <td>0.454950</td>\n",
       "      <td>0.091827</td>\n",
       "      <td>0.020275</td>\n",
       "      <td>0.044564</td>\n",
       "      <td>0.485310</td>\n",
       "      <td>-0.021502</td>\n",
       "      <td>0.950533</td>\n",
       "    </tr>\n",
       "    <tr>\n",
       "      <th>8</th>\n",
       "      <td>(Curry)</td>\n",
       "      <td>(Bhuna - Chicken)</td>\n",
       "      <td>0.066461</td>\n",
       "      <td>0.454950</td>\n",
       "      <td>0.010092</td>\n",
       "      <td>0.151847</td>\n",
       "      <td>0.333766</td>\n",
       "      <td>-0.020144</td>\n",
       "      <td>0.642631</td>\n",
       "    </tr>\n",
       "    <tr>\n",
       "      <th>9</th>\n",
       "      <td>(Bhuna - Chicken)</td>\n",
       "      <td>(Curry)</td>\n",
       "      <td>0.454950</td>\n",
       "      <td>0.066461</td>\n",
       "      <td>0.010092</td>\n",
       "      <td>0.022182</td>\n",
       "      <td>0.333766</td>\n",
       "      <td>-0.020144</td>\n",
       "      <td>0.954717</td>\n",
       "    </tr>\n",
       "    <tr>\n",
       "      <th>10</th>\n",
       "      <td>(Plain Rice)</td>\n",
       "      <td>(House white wine 75cl)</td>\n",
       "      <td>0.463133</td>\n",
       "      <td>0.127739</td>\n",
       "      <td>0.032821</td>\n",
       "      <td>0.070868</td>\n",
       "      <td>0.554786</td>\n",
       "      <td>-0.026339</td>\n",
       "      <td>0.938791</td>\n",
       "    </tr>\n",
       "    <tr>\n",
       "      <th>11</th>\n",
       "      <td>(House white wine 75cl)</td>\n",
       "      <td>(Plain Rice)</td>\n",
       "      <td>0.127739</td>\n",
       "      <td>0.463133</td>\n",
       "      <td>0.032821</td>\n",
       "      <td>0.256940</td>\n",
       "      <td>0.554786</td>\n",
       "      <td>-0.026339</td>\n",
       "      <td>0.722508</td>\n",
       "    </tr>\n",
       "    <tr>\n",
       "      <th>12</th>\n",
       "      <td>(Plain Rice)</td>\n",
       "      <td>(Chicken Tikka Balti)</td>\n",
       "      <td>0.463133</td>\n",
       "      <td>0.222384</td>\n",
       "      <td>0.114010</td>\n",
       "      <td>0.246172</td>\n",
       "      <td>1.106969</td>\n",
       "      <td>0.011017</td>\n",
       "      <td>1.031556</td>\n",
       "    </tr>\n",
       "    <tr>\n",
       "      <th>13</th>\n",
       "      <td>(Chicken Tikka Balti)</td>\n",
       "      <td>(Plain Rice)</td>\n",
       "      <td>0.222384</td>\n",
       "      <td>0.463133</td>\n",
       "      <td>0.114010</td>\n",
       "      <td>0.512674</td>\n",
       "      <td>1.106969</td>\n",
       "      <td>0.011017</td>\n",
       "      <td>1.101658</td>\n",
       "    </tr>\n",
       "    <tr>\n",
       "      <th>14</th>\n",
       "      <td>(Plain Rice)</td>\n",
       "      <td>(Special Fried Rice)</td>\n",
       "      <td>0.463133</td>\n",
       "      <td>0.091827</td>\n",
       "      <td>0.018638</td>\n",
       "      <td>0.040243</td>\n",
       "      <td>0.438255</td>\n",
       "      <td>-0.023890</td>\n",
       "      <td>0.946254</td>\n",
       "    </tr>\n",
       "    <tr>\n",
       "      <th>15</th>\n",
       "      <td>(Special Fried Rice)</td>\n",
       "      <td>(Plain Rice)</td>\n",
       "      <td>0.091827</td>\n",
       "      <td>0.463133</td>\n",
       "      <td>0.018638</td>\n",
       "      <td>0.202970</td>\n",
       "      <td>0.438255</td>\n",
       "      <td>-0.023890</td>\n",
       "      <td>0.673585</td>\n",
       "    </tr>\n",
       "    <tr>\n",
       "      <th>16</th>\n",
       "      <td>(Plain Rice)</td>\n",
       "      <td>(Curry)</td>\n",
       "      <td>0.463133</td>\n",
       "      <td>0.066461</td>\n",
       "      <td>0.012728</td>\n",
       "      <td>0.027483</td>\n",
       "      <td>0.413528</td>\n",
       "      <td>-0.018052</td>\n",
       "      <td>0.959921</td>\n",
       "    </tr>\n",
       "    <tr>\n",
       "      <th>17</th>\n",
       "      <td>(Curry)</td>\n",
       "      <td>(Plain Rice)</td>\n",
       "      <td>0.066461</td>\n",
       "      <td>0.463133</td>\n",
       "      <td>0.012728</td>\n",
       "      <td>0.191518</td>\n",
       "      <td>0.413528</td>\n",
       "      <td>-0.018052</td>\n",
       "      <td>0.664044</td>\n",
       "    </tr>\n",
       "  </tbody>\n",
       "</table>\n",
       "</div>"
      ],
      "text/plain": [
       "                antecedents              consequents  antecedent support  \\\n",
       "0              (Plain Rice)        (Bhuna - Chicken)            0.463133   \n",
       "1         (Bhuna - Chicken)             (Plain Rice)            0.454950   \n",
       "2   (House white wine 75cl)        (Bhuna - Chicken)            0.127739   \n",
       "3         (Bhuna - Chicken)  (House white wine 75cl)            0.454950   \n",
       "4     (Chicken Tikka Balti)        (Bhuna - Chicken)            0.222384   \n",
       "5         (Bhuna - Chicken)    (Chicken Tikka Balti)            0.454950   \n",
       "6      (Special Fried Rice)        (Bhuna - Chicken)            0.091827   \n",
       "7         (Bhuna - Chicken)     (Special Fried Rice)            0.454950   \n",
       "8                   (Curry)        (Bhuna - Chicken)            0.066461   \n",
       "9         (Bhuna - Chicken)                  (Curry)            0.454950   \n",
       "10             (Plain Rice)  (House white wine 75cl)            0.463133   \n",
       "11  (House white wine 75cl)             (Plain Rice)            0.127739   \n",
       "12             (Plain Rice)    (Chicken Tikka Balti)            0.463133   \n",
       "13    (Chicken Tikka Balti)             (Plain Rice)            0.222384   \n",
       "14             (Plain Rice)     (Special Fried Rice)            0.463133   \n",
       "15     (Special Fried Rice)             (Plain Rice)            0.091827   \n",
       "16             (Plain Rice)                  (Curry)            0.463133   \n",
       "17                  (Curry)             (Plain Rice)            0.066461   \n",
       "\n",
       "    consequent support   support  confidence      lift  leverage  conviction  \n",
       "0             0.454950  0.214747    0.463683  1.019194  0.004044    1.016282  \n",
       "1             0.463133  0.214747    0.472022  1.019194  0.004044    1.016837  \n",
       "2             0.454950  0.031548    0.246975  0.542862 -0.026567    0.723813  \n",
       "3             0.127739  0.031548    0.069345  0.542862 -0.026567    0.937255  \n",
       "4             0.454950  0.108373    0.487326  1.071163  0.007200    1.063151  \n",
       "5             0.222384  0.108373    0.238209  1.071163  0.007200    1.020774  \n",
       "6             0.454950  0.020275    0.220792  0.485310 -0.021502    0.699492  \n",
       "7             0.091827  0.020275    0.044564  0.485310 -0.021502    0.950533  \n",
       "8             0.454950  0.010092    0.151847  0.333766 -0.020144    0.642631  \n",
       "9             0.066461  0.010092    0.022182  0.333766 -0.020144    0.954717  \n",
       "10            0.127739  0.032821    0.070868  0.554786 -0.026339    0.938791  \n",
       "11            0.463133  0.032821    0.256940  0.554786 -0.026339    0.722508  \n",
       "12            0.222384  0.114010    0.246172  1.106969  0.011017    1.031556  \n",
       "13            0.463133  0.114010    0.512674  1.106969  0.011017    1.101658  \n",
       "14            0.091827  0.018638    0.040243  0.438255 -0.023890    0.946254  \n",
       "15            0.463133  0.018638    0.202970  0.438255 -0.023890    0.673585  \n",
       "16            0.066461  0.012728    0.027483  0.413528 -0.018052    0.959921  \n",
       "17            0.463133  0.012728    0.191518  0.413528 -0.018052    0.664044  "
      ]
     },
     "execution_count": 145,
     "metadata": {},
     "output_type": "execute_result"
    }
   ],
   "source": [
    "from mlxtend.frequent_patterns import association_rules\n",
    "rules = association_rules(frequent_itemsets, metric=\"lift\", min_threshold=0.05)\n",
    "rules.head(20)"
   ]
  },
  {
   "cell_type": "markdown",
   "id": "df551df0-a61f-46dd-ac94-d561966beeac",
   "metadata": {},
   "source": [
    "After applying the Apriori algorithm to discover frequent itemsets, we used the **association_rules** function to generate association rules. The rules were filtered with a **lift** metric threshold of 0.05, meaning only rules with a lift greater than 0.05 were considered. Lift is a measure of how much more likely two items are to be purchased together compared to being purchased independently.The item that appear first in the rule (e.g., Plain Rice).The item that appear after the \"->\" (e.g., Bhuna - Chicken). The proportion of transactions that contain the antecedent.\n",
    "From the sample  of the Top 20 Rules we can says that **Plain Rice** and **Bhuna - Chicken** often appear together in transactions, with a lift of 1.019. This indicates that customers are more likely to order these two items together than by chance.**Chicken Tikka Balti** and **Bhuna - Chicken** have a lift of 1.071, showing a strong association between these two items.The rule \"If **Plain Rice** is ordered, **House white wine 75cl** is likely to be ordered\" has a lift of 0.555, suggesting a moderate association.**Special Fried Rice** often appears with **Bhuna - Chicken**, but the lift is lower at 0.485, suggesting a weaker association compared to other combinations."
   ]
  },
  {
   "cell_type": "code",
   "execution_count": 147,
   "id": "e5ce93ea-2525-4a11-8f8a-7c7c6da57ac2",
   "metadata": {},
   "outputs": [
    {
     "data": {
      "text/html": [
       "<div>\n",
       "<style scoped>\n",
       "    .dataframe tbody tr th:only-of-type {\n",
       "        vertical-align: middle;\n",
       "    }\n",
       "\n",
       "    .dataframe tbody tr th {\n",
       "        vertical-align: top;\n",
       "    }\n",
       "\n",
       "    .dataframe thead th {\n",
       "        text-align: right;\n",
       "    }\n",
       "</style>\n",
       "<table border=\"1\" class=\"dataframe\">\n",
       "  <thead>\n",
       "    <tr style=\"text-align: right;\">\n",
       "      <th></th>\n",
       "      <th>antecedents</th>\n",
       "      <th>consequents</th>\n",
       "      <th>antecedent support</th>\n",
       "      <th>consequent support</th>\n",
       "      <th>support</th>\n",
       "      <th>confidence</th>\n",
       "      <th>lift</th>\n",
       "      <th>leverage</th>\n",
       "      <th>conviction</th>\n",
       "    </tr>\n",
       "  </thead>\n",
       "  <tbody>\n",
       "    <tr>\n",
       "      <th>0</th>\n",
       "      <td>(Plain Rice)</td>\n",
       "      <td>(Bhuna - Chicken)</td>\n",
       "      <td>0.463133</td>\n",
       "      <td>0.454950</td>\n",
       "      <td>0.214747</td>\n",
       "      <td>0.463683</td>\n",
       "      <td>1.019194</td>\n",
       "      <td>0.004044</td>\n",
       "      <td>1.016282</td>\n",
       "    </tr>\n",
       "    <tr>\n",
       "      <th>1</th>\n",
       "      <td>(Bhuna - Chicken)</td>\n",
       "      <td>(Plain Rice)</td>\n",
       "      <td>0.454950</td>\n",
       "      <td>0.463133</td>\n",
       "      <td>0.214747</td>\n",
       "      <td>0.472022</td>\n",
       "      <td>1.019194</td>\n",
       "      <td>0.004044</td>\n",
       "      <td>1.016837</td>\n",
       "    </tr>\n",
       "    <tr>\n",
       "      <th>2</th>\n",
       "      <td>(House white wine 75cl)</td>\n",
       "      <td>(Bhuna - Chicken)</td>\n",
       "      <td>0.127739</td>\n",
       "      <td>0.454950</td>\n",
       "      <td>0.031548</td>\n",
       "      <td>0.246975</td>\n",
       "      <td>0.542862</td>\n",
       "      <td>-0.026567</td>\n",
       "      <td>0.723813</td>\n",
       "    </tr>\n",
       "    <tr>\n",
       "      <th>3</th>\n",
       "      <td>(Bhuna - Chicken)</td>\n",
       "      <td>(House white wine 75cl)</td>\n",
       "      <td>0.454950</td>\n",
       "      <td>0.127739</td>\n",
       "      <td>0.031548</td>\n",
       "      <td>0.069345</td>\n",
       "      <td>0.542862</td>\n",
       "      <td>-0.026567</td>\n",
       "      <td>0.937255</td>\n",
       "    </tr>\n",
       "    <tr>\n",
       "      <th>4</th>\n",
       "      <td>(Chicken Tikka Balti)</td>\n",
       "      <td>(Bhuna - Chicken)</td>\n",
       "      <td>0.222384</td>\n",
       "      <td>0.454950</td>\n",
       "      <td>0.108373</td>\n",
       "      <td>0.487326</td>\n",
       "      <td>1.071163</td>\n",
       "      <td>0.007200</td>\n",
       "      <td>1.063151</td>\n",
       "    </tr>\n",
       "    <tr>\n",
       "      <th>5</th>\n",
       "      <td>(Bhuna - Chicken)</td>\n",
       "      <td>(Chicken Tikka Balti)</td>\n",
       "      <td>0.454950</td>\n",
       "      <td>0.222384</td>\n",
       "      <td>0.108373</td>\n",
       "      <td>0.238209</td>\n",
       "      <td>1.071163</td>\n",
       "      <td>0.007200</td>\n",
       "      <td>1.020774</td>\n",
       "    </tr>\n",
       "    <tr>\n",
       "      <th>6</th>\n",
       "      <td>(Special Fried Rice)</td>\n",
       "      <td>(Bhuna - Chicken)</td>\n",
       "      <td>0.091827</td>\n",
       "      <td>0.454950</td>\n",
       "      <td>0.020275</td>\n",
       "      <td>0.220792</td>\n",
       "      <td>0.485310</td>\n",
       "      <td>-0.021502</td>\n",
       "      <td>0.699492</td>\n",
       "    </tr>\n",
       "    <tr>\n",
       "      <th>7</th>\n",
       "      <td>(Bhuna - Chicken)</td>\n",
       "      <td>(Special Fried Rice)</td>\n",
       "      <td>0.454950</td>\n",
       "      <td>0.091827</td>\n",
       "      <td>0.020275</td>\n",
       "      <td>0.044564</td>\n",
       "      <td>0.485310</td>\n",
       "      <td>-0.021502</td>\n",
       "      <td>0.950533</td>\n",
       "    </tr>\n",
       "    <tr>\n",
       "      <th>8</th>\n",
       "      <td>(Curry)</td>\n",
       "      <td>(Bhuna - Chicken)</td>\n",
       "      <td>0.066461</td>\n",
       "      <td>0.454950</td>\n",
       "      <td>0.010092</td>\n",
       "      <td>0.151847</td>\n",
       "      <td>0.333766</td>\n",
       "      <td>-0.020144</td>\n",
       "      <td>0.642631</td>\n",
       "    </tr>\n",
       "    <tr>\n",
       "      <th>9</th>\n",
       "      <td>(Bhuna - Chicken)</td>\n",
       "      <td>(Curry)</td>\n",
       "      <td>0.454950</td>\n",
       "      <td>0.066461</td>\n",
       "      <td>0.010092</td>\n",
       "      <td>0.022182</td>\n",
       "      <td>0.333766</td>\n",
       "      <td>-0.020144</td>\n",
       "      <td>0.954717</td>\n",
       "    </tr>\n",
       "    <tr>\n",
       "      <th>10</th>\n",
       "      <td>(Plain Rice)</td>\n",
       "      <td>(House white wine 75cl)</td>\n",
       "      <td>0.463133</td>\n",
       "      <td>0.127739</td>\n",
       "      <td>0.032821</td>\n",
       "      <td>0.070868</td>\n",
       "      <td>0.554786</td>\n",
       "      <td>-0.026339</td>\n",
       "      <td>0.938791</td>\n",
       "    </tr>\n",
       "    <tr>\n",
       "      <th>11</th>\n",
       "      <td>(House white wine 75cl)</td>\n",
       "      <td>(Plain Rice)</td>\n",
       "      <td>0.127739</td>\n",
       "      <td>0.463133</td>\n",
       "      <td>0.032821</td>\n",
       "      <td>0.256940</td>\n",
       "      <td>0.554786</td>\n",
       "      <td>-0.026339</td>\n",
       "      <td>0.722508</td>\n",
       "    </tr>\n",
       "    <tr>\n",
       "      <th>12</th>\n",
       "      <td>(Plain Rice)</td>\n",
       "      <td>(Chicken Tikka Balti)</td>\n",
       "      <td>0.463133</td>\n",
       "      <td>0.222384</td>\n",
       "      <td>0.114010</td>\n",
       "      <td>0.246172</td>\n",
       "      <td>1.106969</td>\n",
       "      <td>0.011017</td>\n",
       "      <td>1.031556</td>\n",
       "    </tr>\n",
       "    <tr>\n",
       "      <th>13</th>\n",
       "      <td>(Chicken Tikka Balti)</td>\n",
       "      <td>(Plain Rice)</td>\n",
       "      <td>0.222384</td>\n",
       "      <td>0.463133</td>\n",
       "      <td>0.114010</td>\n",
       "      <td>0.512674</td>\n",
       "      <td>1.106969</td>\n",
       "      <td>0.011017</td>\n",
       "      <td>1.101658</td>\n",
       "    </tr>\n",
       "    <tr>\n",
       "      <th>14</th>\n",
       "      <td>(Plain Rice)</td>\n",
       "      <td>(Special Fried Rice)</td>\n",
       "      <td>0.463133</td>\n",
       "      <td>0.091827</td>\n",
       "      <td>0.018638</td>\n",
       "      <td>0.040243</td>\n",
       "      <td>0.438255</td>\n",
       "      <td>-0.023890</td>\n",
       "      <td>0.946254</td>\n",
       "    </tr>\n",
       "    <tr>\n",
       "      <th>15</th>\n",
       "      <td>(Special Fried Rice)</td>\n",
       "      <td>(Plain Rice)</td>\n",
       "      <td>0.091827</td>\n",
       "      <td>0.463133</td>\n",
       "      <td>0.018638</td>\n",
       "      <td>0.202970</td>\n",
       "      <td>0.438255</td>\n",
       "      <td>-0.023890</td>\n",
       "      <td>0.673585</td>\n",
       "    </tr>\n",
       "    <tr>\n",
       "      <th>16</th>\n",
       "      <td>(Plain Rice)</td>\n",
       "      <td>(Curry)</td>\n",
       "      <td>0.463133</td>\n",
       "      <td>0.066461</td>\n",
       "      <td>0.012728</td>\n",
       "      <td>0.027483</td>\n",
       "      <td>0.413528</td>\n",
       "      <td>-0.018052</td>\n",
       "      <td>0.959921</td>\n",
       "    </tr>\n",
       "    <tr>\n",
       "      <th>17</th>\n",
       "      <td>(Curry)</td>\n",
       "      <td>(Plain Rice)</td>\n",
       "      <td>0.066461</td>\n",
       "      <td>0.463133</td>\n",
       "      <td>0.012728</td>\n",
       "      <td>0.191518</td>\n",
       "      <td>0.413528</td>\n",
       "      <td>-0.018052</td>\n",
       "      <td>0.664044</td>\n",
       "    </tr>\n",
       "  </tbody>\n",
       "</table>\n",
       "</div>"
      ],
      "text/plain": [
       "                antecedents              consequents  antecedent support  \\\n",
       "0              (Plain Rice)        (Bhuna - Chicken)            0.463133   \n",
       "1         (Bhuna - Chicken)             (Plain Rice)            0.454950   \n",
       "2   (House white wine 75cl)        (Bhuna - Chicken)            0.127739   \n",
       "3         (Bhuna - Chicken)  (House white wine 75cl)            0.454950   \n",
       "4     (Chicken Tikka Balti)        (Bhuna - Chicken)            0.222384   \n",
       "5         (Bhuna - Chicken)    (Chicken Tikka Balti)            0.454950   \n",
       "6      (Special Fried Rice)        (Bhuna - Chicken)            0.091827   \n",
       "7         (Bhuna - Chicken)     (Special Fried Rice)            0.454950   \n",
       "8                   (Curry)        (Bhuna - Chicken)            0.066461   \n",
       "9         (Bhuna - Chicken)                  (Curry)            0.454950   \n",
       "10             (Plain Rice)  (House white wine 75cl)            0.463133   \n",
       "11  (House white wine 75cl)             (Plain Rice)            0.127739   \n",
       "12             (Plain Rice)    (Chicken Tikka Balti)            0.463133   \n",
       "13    (Chicken Tikka Balti)             (Plain Rice)            0.222384   \n",
       "14             (Plain Rice)     (Special Fried Rice)            0.463133   \n",
       "15     (Special Fried Rice)             (Plain Rice)            0.091827   \n",
       "16             (Plain Rice)                  (Curry)            0.463133   \n",
       "17                  (Curry)             (Plain Rice)            0.066461   \n",
       "\n",
       "    consequent support   support  confidence      lift  leverage  conviction  \n",
       "0             0.454950  0.214747    0.463683  1.019194  0.004044    1.016282  \n",
       "1             0.463133  0.214747    0.472022  1.019194  0.004044    1.016837  \n",
       "2             0.454950  0.031548    0.246975  0.542862 -0.026567    0.723813  \n",
       "3             0.127739  0.031548    0.069345  0.542862 -0.026567    0.937255  \n",
       "4             0.454950  0.108373    0.487326  1.071163  0.007200    1.063151  \n",
       "5             0.222384  0.108373    0.238209  1.071163  0.007200    1.020774  \n",
       "6             0.454950  0.020275    0.220792  0.485310 -0.021502    0.699492  \n",
       "7             0.091827  0.020275    0.044564  0.485310 -0.021502    0.950533  \n",
       "8             0.454950  0.010092    0.151847  0.333766 -0.020144    0.642631  \n",
       "9             0.066461  0.010092    0.022182  0.333766 -0.020144    0.954717  \n",
       "10            0.127739  0.032821    0.070868  0.554786 -0.026339    0.938791  \n",
       "11            0.463133  0.032821    0.256940  0.554786 -0.026339    0.722508  \n",
       "12            0.222384  0.114010    0.246172  1.106969  0.011017    1.031556  \n",
       "13            0.463133  0.114010    0.512674  1.106969  0.011017    1.101658  \n",
       "14            0.091827  0.018638    0.040243  0.438255 -0.023890    0.946254  \n",
       "15            0.463133  0.018638    0.202970  0.438255 -0.023890    0.673585  \n",
       "16            0.066461  0.012728    0.027483  0.413528 -0.018052    0.959921  \n",
       "17            0.463133  0.012728    0.191518  0.413528 -0.018052    0.664044  "
      ]
     },
     "execution_count": 147,
     "metadata": {},
     "output_type": "execute_result"
    }
   ],
   "source": [
    "rules = association_rules(frequent_itemsets, metric=\"support\", min_threshold=0.01)\n",
    "rules.head(20)"
   ]
  },
  {
   "cell_type": "markdown",
   "id": "c3ffecde-17ce-4fa8-8254-e1c99f0f1550",
   "metadata": {},
   "source": [
    "In next step i applied the Apriori algorithm to extract frequent itemsets and then used the `association_rules` function to generate rules, this time focusing on the **support** metric with a minimum threshold of 0.01 (1% support). The support of a rule measures how frequently the items in the rule appear together in the dataset. **Bhuna - Chicken** and **Plain Rice** have a strong connection, with a support of 0.2147, meaning they appear together in about 21.47% of the transactions.**Chicken Tikka Balti** and **Bhuna - Chicken** also have a notable support of 0.1084, showing that these two items frequently appear together.**Curry** and **Bhuna - Chicken** have a low support (0.0101), but the rule still exists, indicating that they appear together in some transactions, though not often.**Plain Rice** and **Chicken Tikka Balti** have a support of 0.114, which shows that these two items are also often ordered together.**Special Fried Rice** and **Plain Rice** have a support of 0.0186, indicating that they are sometimes ordered together, but less frequently."
   ]
  },
  {
   "cell_type": "code",
   "execution_count": 149,
   "id": "a40fa062-02d6-4f7b-afa6-509838686e18",
   "metadata": {},
   "outputs": [
    {
     "data": {
      "text/html": [
       "<div>\n",
       "<style scoped>\n",
       "    .dataframe tbody tr th:only-of-type {\n",
       "        vertical-align: middle;\n",
       "    }\n",
       "\n",
       "    .dataframe tbody tr th {\n",
       "        vertical-align: top;\n",
       "    }\n",
       "\n",
       "    .dataframe thead th {\n",
       "        text-align: right;\n",
       "    }\n",
       "</style>\n",
       "<table border=\"1\" class=\"dataframe\">\n",
       "  <thead>\n",
       "    <tr style=\"text-align: right;\">\n",
       "      <th></th>\n",
       "      <th>antecedents</th>\n",
       "      <th>consequents</th>\n",
       "      <th>antecedent support</th>\n",
       "      <th>consequent support</th>\n",
       "      <th>support</th>\n",
       "      <th>confidence</th>\n",
       "      <th>lift</th>\n",
       "      <th>leverage</th>\n",
       "      <th>conviction</th>\n",
       "    </tr>\n",
       "  </thead>\n",
       "  <tbody>\n",
       "    <tr>\n",
       "      <th>0</th>\n",
       "      <td>(Plain Rice)</td>\n",
       "      <td>(Bhuna - Chicken)</td>\n",
       "      <td>0.463133</td>\n",
       "      <td>0.454950</td>\n",
       "      <td>0.214747</td>\n",
       "      <td>0.463683</td>\n",
       "      <td>1.019194</td>\n",
       "      <td>0.004044</td>\n",
       "      <td>1.016282</td>\n",
       "    </tr>\n",
       "    <tr>\n",
       "      <th>1</th>\n",
       "      <td>(Bhuna - Chicken)</td>\n",
       "      <td>(Plain Rice)</td>\n",
       "      <td>0.454950</td>\n",
       "      <td>0.463133</td>\n",
       "      <td>0.214747</td>\n",
       "      <td>0.472022</td>\n",
       "      <td>1.019194</td>\n",
       "      <td>0.004044</td>\n",
       "      <td>1.016837</td>\n",
       "    </tr>\n",
       "    <tr>\n",
       "      <th>2</th>\n",
       "      <td>(House white wine 75cl)</td>\n",
       "      <td>(Bhuna - Chicken)</td>\n",
       "      <td>0.127739</td>\n",
       "      <td>0.454950</td>\n",
       "      <td>0.031548</td>\n",
       "      <td>0.246975</td>\n",
       "      <td>0.542862</td>\n",
       "      <td>-0.026567</td>\n",
       "      <td>0.723813</td>\n",
       "    </tr>\n",
       "    <tr>\n",
       "      <th>3</th>\n",
       "      <td>(Bhuna - Chicken)</td>\n",
       "      <td>(House white wine 75cl)</td>\n",
       "      <td>0.454950</td>\n",
       "      <td>0.127739</td>\n",
       "      <td>0.031548</td>\n",
       "      <td>0.069345</td>\n",
       "      <td>0.542862</td>\n",
       "      <td>-0.026567</td>\n",
       "      <td>0.937255</td>\n",
       "    </tr>\n",
       "    <tr>\n",
       "      <th>4</th>\n",
       "      <td>(Chicken Tikka Balti)</td>\n",
       "      <td>(Bhuna - Chicken)</td>\n",
       "      <td>0.222384</td>\n",
       "      <td>0.454950</td>\n",
       "      <td>0.108373</td>\n",
       "      <td>0.487326</td>\n",
       "      <td>1.071163</td>\n",
       "      <td>0.007200</td>\n",
       "      <td>1.063151</td>\n",
       "    </tr>\n",
       "    <tr>\n",
       "      <th>5</th>\n",
       "      <td>(Bhuna - Chicken)</td>\n",
       "      <td>(Chicken Tikka Balti)</td>\n",
       "      <td>0.454950</td>\n",
       "      <td>0.222384</td>\n",
       "      <td>0.108373</td>\n",
       "      <td>0.238209</td>\n",
       "      <td>1.071163</td>\n",
       "      <td>0.007200</td>\n",
       "      <td>1.020774</td>\n",
       "    </tr>\n",
       "    <tr>\n",
       "      <th>6</th>\n",
       "      <td>(Special Fried Rice)</td>\n",
       "      <td>(Bhuna - Chicken)</td>\n",
       "      <td>0.091827</td>\n",
       "      <td>0.454950</td>\n",
       "      <td>0.020275</td>\n",
       "      <td>0.220792</td>\n",
       "      <td>0.485310</td>\n",
       "      <td>-0.021502</td>\n",
       "      <td>0.699492</td>\n",
       "    </tr>\n",
       "    <tr>\n",
       "      <th>7</th>\n",
       "      <td>(Bhuna - Chicken)</td>\n",
       "      <td>(Special Fried Rice)</td>\n",
       "      <td>0.454950</td>\n",
       "      <td>0.091827</td>\n",
       "      <td>0.020275</td>\n",
       "      <td>0.044564</td>\n",
       "      <td>0.485310</td>\n",
       "      <td>-0.021502</td>\n",
       "      <td>0.950533</td>\n",
       "    </tr>\n",
       "    <tr>\n",
       "      <th>8</th>\n",
       "      <td>(Curry)</td>\n",
       "      <td>(Bhuna - Chicken)</td>\n",
       "      <td>0.066461</td>\n",
       "      <td>0.454950</td>\n",
       "      <td>0.010092</td>\n",
       "      <td>0.151847</td>\n",
       "      <td>0.333766</td>\n",
       "      <td>-0.020144</td>\n",
       "      <td>0.642631</td>\n",
       "    </tr>\n",
       "    <tr>\n",
       "      <th>9</th>\n",
       "      <td>(Bhuna - Chicken)</td>\n",
       "      <td>(Curry)</td>\n",
       "      <td>0.454950</td>\n",
       "      <td>0.066461</td>\n",
       "      <td>0.010092</td>\n",
       "      <td>0.022182</td>\n",
       "      <td>0.333766</td>\n",
       "      <td>-0.020144</td>\n",
       "      <td>0.954717</td>\n",
       "    </tr>\n",
       "    <tr>\n",
       "      <th>10</th>\n",
       "      <td>(Plain Rice)</td>\n",
       "      <td>(House white wine 75cl)</td>\n",
       "      <td>0.463133</td>\n",
       "      <td>0.127739</td>\n",
       "      <td>0.032821</td>\n",
       "      <td>0.070868</td>\n",
       "      <td>0.554786</td>\n",
       "      <td>-0.026339</td>\n",
       "      <td>0.938791</td>\n",
       "    </tr>\n",
       "    <tr>\n",
       "      <th>11</th>\n",
       "      <td>(House white wine 75cl)</td>\n",
       "      <td>(Plain Rice)</td>\n",
       "      <td>0.127739</td>\n",
       "      <td>0.463133</td>\n",
       "      <td>0.032821</td>\n",
       "      <td>0.256940</td>\n",
       "      <td>0.554786</td>\n",
       "      <td>-0.026339</td>\n",
       "      <td>0.722508</td>\n",
       "    </tr>\n",
       "    <tr>\n",
       "      <th>12</th>\n",
       "      <td>(Plain Rice)</td>\n",
       "      <td>(Chicken Tikka Balti)</td>\n",
       "      <td>0.463133</td>\n",
       "      <td>0.222384</td>\n",
       "      <td>0.114010</td>\n",
       "      <td>0.246172</td>\n",
       "      <td>1.106969</td>\n",
       "      <td>0.011017</td>\n",
       "      <td>1.031556</td>\n",
       "    </tr>\n",
       "    <tr>\n",
       "      <th>13</th>\n",
       "      <td>(Chicken Tikka Balti)</td>\n",
       "      <td>(Plain Rice)</td>\n",
       "      <td>0.222384</td>\n",
       "      <td>0.463133</td>\n",
       "      <td>0.114010</td>\n",
       "      <td>0.512674</td>\n",
       "      <td>1.106969</td>\n",
       "      <td>0.011017</td>\n",
       "      <td>1.101658</td>\n",
       "    </tr>\n",
       "    <tr>\n",
       "      <th>14</th>\n",
       "      <td>(Plain Rice)</td>\n",
       "      <td>(Special Fried Rice)</td>\n",
       "      <td>0.463133</td>\n",
       "      <td>0.091827</td>\n",
       "      <td>0.018638</td>\n",
       "      <td>0.040243</td>\n",
       "      <td>0.438255</td>\n",
       "      <td>-0.023890</td>\n",
       "      <td>0.946254</td>\n",
       "    </tr>\n",
       "    <tr>\n",
       "      <th>15</th>\n",
       "      <td>(Special Fried Rice)</td>\n",
       "      <td>(Plain Rice)</td>\n",
       "      <td>0.091827</td>\n",
       "      <td>0.463133</td>\n",
       "      <td>0.018638</td>\n",
       "      <td>0.202970</td>\n",
       "      <td>0.438255</td>\n",
       "      <td>-0.023890</td>\n",
       "      <td>0.673585</td>\n",
       "    </tr>\n",
       "    <tr>\n",
       "      <th>16</th>\n",
       "      <td>(Plain Rice)</td>\n",
       "      <td>(Curry)</td>\n",
       "      <td>0.463133</td>\n",
       "      <td>0.066461</td>\n",
       "      <td>0.012728</td>\n",
       "      <td>0.027483</td>\n",
       "      <td>0.413528</td>\n",
       "      <td>-0.018052</td>\n",
       "      <td>0.959921</td>\n",
       "    </tr>\n",
       "    <tr>\n",
       "      <th>17</th>\n",
       "      <td>(Curry)</td>\n",
       "      <td>(Plain Rice)</td>\n",
       "      <td>0.066461</td>\n",
       "      <td>0.463133</td>\n",
       "      <td>0.012728</td>\n",
       "      <td>0.191518</td>\n",
       "      <td>0.413528</td>\n",
       "      <td>-0.018052</td>\n",
       "      <td>0.664044</td>\n",
       "    </tr>\n",
       "  </tbody>\n",
       "</table>\n",
       "</div>"
      ],
      "text/plain": [
       "                antecedents              consequents  antecedent support  \\\n",
       "0              (Plain Rice)        (Bhuna - Chicken)            0.463133   \n",
       "1         (Bhuna - Chicken)             (Plain Rice)            0.454950   \n",
       "2   (House white wine 75cl)        (Bhuna - Chicken)            0.127739   \n",
       "3         (Bhuna - Chicken)  (House white wine 75cl)            0.454950   \n",
       "4     (Chicken Tikka Balti)        (Bhuna - Chicken)            0.222384   \n",
       "5         (Bhuna - Chicken)    (Chicken Tikka Balti)            0.454950   \n",
       "6      (Special Fried Rice)        (Bhuna - Chicken)            0.091827   \n",
       "7         (Bhuna - Chicken)     (Special Fried Rice)            0.454950   \n",
       "8                   (Curry)        (Bhuna - Chicken)            0.066461   \n",
       "9         (Bhuna - Chicken)                  (Curry)            0.454950   \n",
       "10             (Plain Rice)  (House white wine 75cl)            0.463133   \n",
       "11  (House white wine 75cl)             (Plain Rice)            0.127739   \n",
       "12             (Plain Rice)    (Chicken Tikka Balti)            0.463133   \n",
       "13    (Chicken Tikka Balti)             (Plain Rice)            0.222384   \n",
       "14             (Plain Rice)     (Special Fried Rice)            0.463133   \n",
       "15     (Special Fried Rice)             (Plain Rice)            0.091827   \n",
       "16             (Plain Rice)                  (Curry)            0.463133   \n",
       "17                  (Curry)             (Plain Rice)            0.066461   \n",
       "\n",
       "    consequent support   support  confidence      lift  leverage  conviction  \n",
       "0             0.454950  0.214747    0.463683  1.019194  0.004044    1.016282  \n",
       "1             0.463133  0.214747    0.472022  1.019194  0.004044    1.016837  \n",
       "2             0.454950  0.031548    0.246975  0.542862 -0.026567    0.723813  \n",
       "3             0.127739  0.031548    0.069345  0.542862 -0.026567    0.937255  \n",
       "4             0.454950  0.108373    0.487326  1.071163  0.007200    1.063151  \n",
       "5             0.222384  0.108373    0.238209  1.071163  0.007200    1.020774  \n",
       "6             0.454950  0.020275    0.220792  0.485310 -0.021502    0.699492  \n",
       "7             0.091827  0.020275    0.044564  0.485310 -0.021502    0.950533  \n",
       "8             0.454950  0.010092    0.151847  0.333766 -0.020144    0.642631  \n",
       "9             0.066461  0.010092    0.022182  0.333766 -0.020144    0.954717  \n",
       "10            0.127739  0.032821    0.070868  0.554786 -0.026339    0.938791  \n",
       "11            0.463133  0.032821    0.256940  0.554786 -0.026339    0.722508  \n",
       "12            0.222384  0.114010    0.246172  1.106969  0.011017    1.031556  \n",
       "13            0.463133  0.114010    0.512674  1.106969  0.011017    1.101658  \n",
       "14            0.091827  0.018638    0.040243  0.438255 -0.023890    0.946254  \n",
       "15            0.463133  0.018638    0.202970  0.438255 -0.023890    0.673585  \n",
       "16            0.066461  0.012728    0.027483  0.413528 -0.018052    0.959921  \n",
       "17            0.463133  0.012728    0.191518  0.413528 -0.018052    0.664044  "
      ]
     },
     "execution_count": 149,
     "metadata": {},
     "output_type": "execute_result"
    }
   ],
   "source": [
    "rules = association_rules(frequent_itemsets, metric=\"confidence\", min_threshold=0.01)\n",
    "rules.head(20)"
   ]
  },
  {
   "cell_type": "markdown",
   "id": "20c56042-6108-46b6-84f5-76643be96dcc",
   "metadata": {},
   "source": [
    "In this section, we compare the results of association rules based on three different metrics: **support**, **confidence**, and **lift**. Each metric measures different aspects of itemset relationships, and varying the thresholds affects the output rules. Let’s look at the behavior of each metric and how it influences the resulting rules.Rules with **higher support** are more likely to appear frequently together in the dataset. These rules are particularly useful when we want to find items that occur often together.Example: (Plain Rice) -> (Bhuna - Chicken) has a support of 0.214747, indicating that this combination is fairly common.**Higher confidence** values indicate a stronger relationship between antecedents and consequents. For example, the rule (Bhuna - Chicken) -> (Plain Rice) has a high confidence of 0.472022, suggesting that if a customer orders Bhuna - Chicken, they are likely to order Plain Rice as well. Example: (House white wine 75cl) -> (Bhuna - Chicken) has a lower confidence of 0.246975, meaning it is less reliable.**Higher lift values** indicate a stronger positive association. For example, (Plain Rice) -> (Bhuna - Chicken) has a lift of 1.019194, suggesting that Plain Rice and Bhuna - Chicken appear together more often than would be expected by chance.Example: (Bhuna - Chicken) -> (House white wine 75cl) has a lift of 0.542862, indicating a weaker relationship compared to rules with higher lift values.**Support** is concerned with the frequency of itemsets, so it produces rules that occur more often in the dataset. It is good for discovering frequent item combinations but doesn’t give insight into the strength of the relationship between items.**Confidence** focuses on the reliability of the rule. It tells us how likely the consequent is, given the antecedent. This is useful when we are interested in predicting one item from another.**Lift** looks at the strength of the association, telling us if the items are more likely to appear together than by chance. It is ideal for discovering significant associations that go beyond mere co-occurrence."
   ]
  },
  {
   "cell_type": "code",
   "execution_count": 151,
   "id": "8dca260c-59ee-4172-98fb-43908e9fd33d",
   "metadata": {},
   "outputs": [
    {
     "data": {
      "image/png": "[encoded data removed]",
      "text/plain": [
       "<Figure size 1200x1200 with 1 Axes>"
      ]
     },
     "metadata": {},
     "output_type": "display_data"
    }
   ],
   "source": [
    "G = nx.DiGraph() \n",
    "for _, row in rules.iterrows():\n",
    "    for antecedent in row['antecedents']:\n",
    "        for consequent in row['consequents']:\n",
    "            G.add_edge(antecedent, consequent, weight=row['lift'])\n",
    "pos = nx.spring_layout(G, k=0.5)\n",
    "plt.figure(figsize=(12, 12))\n",
    "nx.draw_networkx_nodes(G, pos, node_size=2000, node_color='lightgreen')\n",
    "nx.draw_networkx_edges(G, pos, arrowstyle='-|>', arrowsize=10, edge_color='black', alpha=0.7)\n",
    "nx.draw_networkx_labels(G, pos, font_size=12, font_weight='bold')\n",
    "edge_labels = {(u, v): f\"{d['weight']:.2f}\" for u, v, d in G.edges(data=True)}\n",
    "nx.draw_networkx_edge_labels(G, pos, edge_labels=edge_labels, font_size=10)\n",
    "plt.title(\"Network Graph of Association Rules\", fontsize=15)\n",
    "plt.axis('off')\n",
    "plt.show()\n"
   ]
  },
  {
   "cell_type": "markdown",
   "id": "8164a01c-29ce-414a-af55-9c49a52720cf",
   "metadata": {},
   "source": [
    "In the network  graph, we can that   edges are labeled with weights that represent the lift , indicating the strength of the association between the items. For example, the edge from **\"Plain Rice\"** to **\"Chicken Tikka Balti\"** has a weight of 1.11, suggesting a strong association between these two items.On the other hand, the edge between **\"Curry\"** and **\"Bhuna - Chickens\"** has a weight of 0.33, indicating a weaker association."
   ]
  },
  {
   "cell_type": "code",
   "execution_count": 153,
   "id": "be343ced-70b8-4b62-87d2-acf23cf2348f",
   "metadata": {},
   "outputs": [
    {
     "data": {
      "text/html": [
       "<div>\n",
       "<style scoped>\n",
       "    .dataframe tbody tr th:only-of-type {\n",
       "        vertical-align: middle;\n",
       "    }\n",
       "\n",
       "    .dataframe tbody tr th {\n",
       "        vertical-align: top;\n",
       "    }\n",
       "\n",
       "    .dataframe thead th {\n",
       "        text-align: right;\n",
       "    }\n",
       "</style>\n",
       "<table border=\"1\" class=\"dataframe\">\n",
       "  <thead>\n",
       "    <tr style=\"text-align: right;\">\n",
       "      <th></th>\n",
       "      <th>antecedents</th>\n",
       "      <th>consequents</th>\n",
       "      <th>antecedent support</th>\n",
       "      <th>consequent support</th>\n",
       "      <th>support</th>\n",
       "      <th>confidence</th>\n",
       "      <th>lift</th>\n",
       "      <th>leverage</th>\n",
       "      <th>conviction</th>\n",
       "    </tr>\n",
       "  </thead>\n",
       "  <tbody>\n",
       "    <tr>\n",
       "      <th>0</th>\n",
       "      <td>(Plain Rice)</td>\n",
       "      <td>(Bhuna - Chicken)</td>\n",
       "      <td>0.463133</td>\n",
       "      <td>0.454950</td>\n",
       "      <td>0.214747</td>\n",
       "      <td>0.463683</td>\n",
       "      <td>1.019194</td>\n",
       "      <td>0.004044</td>\n",
       "      <td>1.016282</td>\n",
       "    </tr>\n",
       "    <tr>\n",
       "      <th>1</th>\n",
       "      <td>(Bhuna - Chicken)</td>\n",
       "      <td>(Plain Rice)</td>\n",
       "      <td>0.454950</td>\n",
       "      <td>0.463133</td>\n",
       "      <td>0.214747</td>\n",
       "      <td>0.472022</td>\n",
       "      <td>1.019194</td>\n",
       "      <td>0.004044</td>\n",
       "      <td>1.016837</td>\n",
       "    </tr>\n",
       "    <tr>\n",
       "      <th>4</th>\n",
       "      <td>(Chicken Tikka Balti)</td>\n",
       "      <td>(Bhuna - Chicken)</td>\n",
       "      <td>0.222384</td>\n",
       "      <td>0.454950</td>\n",
       "      <td>0.108373</td>\n",
       "      <td>0.487326</td>\n",
       "      <td>1.071163</td>\n",
       "      <td>0.007200</td>\n",
       "      <td>1.063151</td>\n",
       "    </tr>\n",
       "    <tr>\n",
       "      <th>5</th>\n",
       "      <td>(Bhuna - Chicken)</td>\n",
       "      <td>(Chicken Tikka Balti)</td>\n",
       "      <td>0.454950</td>\n",
       "      <td>0.222384</td>\n",
       "      <td>0.108373</td>\n",
       "      <td>0.238209</td>\n",
       "      <td>1.071163</td>\n",
       "      <td>0.007200</td>\n",
       "      <td>1.020774</td>\n",
       "    </tr>\n",
       "    <tr>\n",
       "      <th>12</th>\n",
       "      <td>(Plain Rice)</td>\n",
       "      <td>(Chicken Tikka Balti)</td>\n",
       "      <td>0.463133</td>\n",
       "      <td>0.222384</td>\n",
       "      <td>0.114010</td>\n",
       "      <td>0.246172</td>\n",
       "      <td>1.106969</td>\n",
       "      <td>0.011017</td>\n",
       "      <td>1.031556</td>\n",
       "    </tr>\n",
       "    <tr>\n",
       "      <th>13</th>\n",
       "      <td>(Chicken Tikka Balti)</td>\n",
       "      <td>(Plain Rice)</td>\n",
       "      <td>0.222384</td>\n",
       "      <td>0.463133</td>\n",
       "      <td>0.114010</td>\n",
       "      <td>0.512674</td>\n",
       "      <td>1.106969</td>\n",
       "      <td>0.011017</td>\n",
       "      <td>1.101658</td>\n",
       "    </tr>\n",
       "  </tbody>\n",
       "</table>\n",
       "</div>"
      ],
      "text/plain": [
       "              antecedents            consequents  antecedent support  \\\n",
       "0            (Plain Rice)      (Bhuna - Chicken)            0.463133   \n",
       "1       (Bhuna - Chicken)           (Plain Rice)            0.454950   \n",
       "4   (Chicken Tikka Balti)      (Bhuna - Chicken)            0.222384   \n",
       "5       (Bhuna - Chicken)  (Chicken Tikka Balti)            0.454950   \n",
       "12           (Plain Rice)  (Chicken Tikka Balti)            0.463133   \n",
       "13  (Chicken Tikka Balti)           (Plain Rice)            0.222384   \n",
       "\n",
       "    consequent support   support  confidence      lift  leverage  conviction  \n",
       "0             0.454950  0.214747    0.463683  1.019194  0.004044    1.016282  \n",
       "1             0.463133  0.214747    0.472022  1.019194  0.004044    1.016837  \n",
       "4             0.454950  0.108373    0.487326  1.071163  0.007200    1.063151  \n",
       "5             0.222384  0.108373    0.238209  1.071163  0.007200    1.020774  \n",
       "12            0.222384  0.114010    0.246172  1.106969  0.011017    1.031556  \n",
       "13            0.463133  0.114010    0.512674  1.106969  0.011017    1.101658  "
      ]
     },
     "execution_count": 153,
     "metadata": {},
     "output_type": "execute_result"
    }
   ],
   "source": [
    "filtered_rules = rules[(rules['lift'] > 1.0) & (rules['confidence'] > 0.2)]\n",
    "filtered_rules"
   ]
  },
  {
   "cell_type": "markdown",
   "id": "8651a7ea-1aef-48cb-b0d9-fb16aa65c9eb",
   "metadata": {},
   "source": [
    "Here i  filtered the association rules based on two different thresholds for **lift** and **confidence**:\n",
    "\n",
    "**First filter**:  *Lift > 1.0* ,*Confidence > 0.2*\n",
    "   This filter narrows down the rules to those with a relatively strong association between the antecedents and consequents. Only rules with a lift greater than 1.0 (indicating a strong positive association) and confidence greater than 0.2 (indicating that the consequent is likely given the antecedent) are kept.\n",
    "**Second filter**:  *Lift > 1.0*, *Confidence > 0.1*\n",
    "   Here, the **confidence** threshold is lowered to 0.1, which means the filter will capture more rules that might have a weaker association but still significant lift.\n",
    "\n",
    " **First filter (Confidence > 0.2)** has fewer rules compared to the **second filter (Confidence > 0.1)**.\n",
    "The **second filter** includes additional rules with slightly lower confidence but still high lift.\n"
   ]
  },
  {
   "cell_type": "code",
   "execution_count": 155,
   "id": "ac44bac6-2f47-4c50-b960-a5850adb2575",
   "metadata": {},
   "outputs": [
    {
     "data": {
      "text/html": [
       "<div>\n",
       "<style scoped>\n",
       "    .dataframe tbody tr th:only-of-type {\n",
       "        vertical-align: middle;\n",
       "    }\n",
       "\n",
       "    .dataframe tbody tr th {\n",
       "        vertical-align: top;\n",
       "    }\n",
       "\n",
       "    .dataframe thead th {\n",
       "        text-align: right;\n",
       "    }\n",
       "</style>\n",
       "<table border=\"1\" class=\"dataframe\">\n",
       "  <thead>\n",
       "    <tr style=\"text-align: right;\">\n",
       "      <th></th>\n",
       "      <th>antecedents</th>\n",
       "      <th>consequents</th>\n",
       "      <th>antecedent support</th>\n",
       "      <th>consequent support</th>\n",
       "      <th>support</th>\n",
       "      <th>confidence</th>\n",
       "      <th>lift</th>\n",
       "      <th>leverage</th>\n",
       "      <th>conviction</th>\n",
       "    </tr>\n",
       "  </thead>\n",
       "  <tbody>\n",
       "    <tr>\n",
       "      <th>0</th>\n",
       "      <td>(Plain Rice)</td>\n",
       "      <td>(Bhuna - Chicken)</td>\n",
       "      <td>0.463133</td>\n",
       "      <td>0.454950</td>\n",
       "      <td>0.214747</td>\n",
       "      <td>0.463683</td>\n",
       "      <td>1.019194</td>\n",
       "      <td>0.004044</td>\n",
       "      <td>1.016282</td>\n",
       "    </tr>\n",
       "    <tr>\n",
       "      <th>1</th>\n",
       "      <td>(Bhuna - Chicken)</td>\n",
       "      <td>(Plain Rice)</td>\n",
       "      <td>0.454950</td>\n",
       "      <td>0.463133</td>\n",
       "      <td>0.214747</td>\n",
       "      <td>0.472022</td>\n",
       "      <td>1.019194</td>\n",
       "      <td>0.004044</td>\n",
       "      <td>1.016837</td>\n",
       "    </tr>\n",
       "    <tr>\n",
       "      <th>4</th>\n",
       "      <td>(Chicken Tikka Balti)</td>\n",
       "      <td>(Bhuna - Chicken)</td>\n",
       "      <td>0.222384</td>\n",
       "      <td>0.454950</td>\n",
       "      <td>0.108373</td>\n",
       "      <td>0.487326</td>\n",
       "      <td>1.071163</td>\n",
       "      <td>0.007200</td>\n",
       "      <td>1.063151</td>\n",
       "    </tr>\n",
       "    <tr>\n",
       "      <th>5</th>\n",
       "      <td>(Bhuna - Chicken)</td>\n",
       "      <td>(Chicken Tikka Balti)</td>\n",
       "      <td>0.454950</td>\n",
       "      <td>0.222384</td>\n",
       "      <td>0.108373</td>\n",
       "      <td>0.238209</td>\n",
       "      <td>1.071163</td>\n",
       "      <td>0.007200</td>\n",
       "      <td>1.020774</td>\n",
       "    </tr>\n",
       "    <tr>\n",
       "      <th>12</th>\n",
       "      <td>(Plain Rice)</td>\n",
       "      <td>(Chicken Tikka Balti)</td>\n",
       "      <td>0.463133</td>\n",
       "      <td>0.222384</td>\n",
       "      <td>0.114010</td>\n",
       "      <td>0.246172</td>\n",
       "      <td>1.106969</td>\n",
       "      <td>0.011017</td>\n",
       "      <td>1.031556</td>\n",
       "    </tr>\n",
       "    <tr>\n",
       "      <th>13</th>\n",
       "      <td>(Chicken Tikka Balti)</td>\n",
       "      <td>(Plain Rice)</td>\n",
       "      <td>0.222384</td>\n",
       "      <td>0.463133</td>\n",
       "      <td>0.114010</td>\n",
       "      <td>0.512674</td>\n",
       "      <td>1.106969</td>\n",
       "      <td>0.011017</td>\n",
       "      <td>1.101658</td>\n",
       "    </tr>\n",
       "  </tbody>\n",
       "</table>\n",
       "</div>"
      ],
      "text/plain": [
       "              antecedents            consequents  antecedent support  \\\n",
       "0            (Plain Rice)      (Bhuna - Chicken)            0.463133   \n",
       "1       (Bhuna - Chicken)           (Plain Rice)            0.454950   \n",
       "4   (Chicken Tikka Balti)      (Bhuna - Chicken)            0.222384   \n",
       "5       (Bhuna - Chicken)  (Chicken Tikka Balti)            0.454950   \n",
       "12           (Plain Rice)  (Chicken Tikka Balti)            0.463133   \n",
       "13  (Chicken Tikka Balti)           (Plain Rice)            0.222384   \n",
       "\n",
       "    consequent support   support  confidence      lift  leverage  conviction  \n",
       "0             0.454950  0.214747    0.463683  1.019194  0.004044    1.016282  \n",
       "1             0.463133  0.214747    0.472022  1.019194  0.004044    1.016837  \n",
       "4             0.454950  0.108373    0.487326  1.071163  0.007200    1.063151  \n",
       "5             0.222384  0.108373    0.238209  1.071163  0.007200    1.020774  \n",
       "12            0.222384  0.114010    0.246172  1.106969  0.011017    1.031556  \n",
       "13            0.463133  0.114010    0.512674  1.106969  0.011017    1.101658  "
      ]
     },
     "execution_count": 155,
     "metadata": {},
     "output_type": "execute_result"
    }
   ],
   "source": [
    "filtered_rules = rules[(rules['lift'] > 1.0) & (rules['confidence'] > 0.1)]\n",
    "filtered_rules"
   ]
  },
  {
   "cell_type": "code",
   "execution_count": 157,
   "id": "d1d97bea-887c-4193-8875-01870fcc0b16",
   "metadata": {},
   "outputs": [
    {
     "name": "stdout",
     "output_type": "stream",
     "text": [
      "              antecedents            consequents  antecedent support  \\\n",
      "0            (Plain Rice)      (Bhuna - Chicken)            0.463133   \n",
      "1       (Bhuna - Chicken)           (Plain Rice)            0.454950   \n",
      "4   (Chicken Tikka Balti)      (Bhuna - Chicken)            0.222384   \n",
      "5       (Bhuna - Chicken)  (Chicken Tikka Balti)            0.454950   \n",
      "12           (Plain Rice)  (Chicken Tikka Balti)            0.463133   \n",
      "13  (Chicken Tikka Balti)           (Plain Rice)            0.222384   \n",
      "\n",
      "    consequent support   support  confidence      lift  leverage  conviction  \n",
      "0             0.454950  0.214747    0.463683  1.019194  0.004044    1.016282  \n",
      "1             0.463133  0.214747    0.472022  1.019194  0.004044    1.016837  \n",
      "4             0.454950  0.108373    0.487326  1.071163  0.007200    1.063151  \n",
      "5             0.222384  0.108373    0.238209  1.071163  0.007200    1.020774  \n",
      "12            0.222384  0.114010    0.246172  1.106969  0.011017    1.031556  \n",
      "13            0.463133  0.114010    0.512674  1.106969  0.011017    1.101658  \n"
     ]
    }
   ],
   "source": [
    "print(filtered_rules)"
   ]
  },
  {
   "cell_type": "markdown",
   "id": "695682e8-23ee-483d-ad42-113f6b39382d",
   "metadata": {},
   "source": [
    " From the printed filtered rulea we can see that  strong association between items like **Bhuna - Chicken** and **Plain Rice**, and **Chicken Tikka Balti** and the other items, as they all have a **lift greater than 1.0** and **confidence greater than 0.1**. And  rules with **lift > 1.0** suggest positive relationships between the items."
   ]
  },
  {
   "cell_type": "code",
   "execution_count": 159,
   "id": "f9d8bbed-3edf-4633-bcd3-a7975d43116b",
   "metadata": {},
   "outputs": [
    {
     "data": {
      "image/png": "[encoded data removed]",
      "text/plain": [
       "<Figure size 640x480 with 1 Axes>"
      ]
     },
     "metadata": {},
     "output_type": "display_data"
    }
   ],
   "source": [
    "G = nx.Graph()\n",
    "for _, row in filtered_rules.iterrows():\n",
    "    for antecedent in row['antecedents']:\n",
    "        for consequent in row['consequents']:\n",
    "            G.add_edge(antecedent, consequent, weight=row['confidence'])\n",
    "pos = nx.spring_layout(G, seed=42)\n",
    "nx.draw(G, pos, with_labels=True, node_size=2000, font_size=10, font_weight='bold', node_color='lightblue', edge_color='gray')\n",
    "nx.draw_networkx_edge_labels(G, pos, edge_labels={(u, v): f\"{d['weight']:.2f}\" for u, v, d in G.edges(data=True)}, font_size=8)\n",
    "plt.title(\"Network Graph of Filtered Association Rules\")\n",
    "plt.show()\n"
   ]
  },
  {
   "cell_type": "markdown",
   "id": "6d87ba6a-eea9-441e-b3a4-a9065aae2339",
   "metadata": {},
   "source": [
    "Here are the specific relationships and their confidence  values:\"Bhuna - Chicken\" is strongly associated with \"Plain Rice\" with a confidence level of 0.46. \"Bhuna - Chicken\" is also linked to \"Chicken Tikka Balti\" with a confidence level of 0.49.\"Chicken Tikka Balti\" has a weaker association with \"Plain Rice\" with a confidence level of 0.25. The edges between the nodes are weighted by **confidence** values. These relationships indicate that when a customer buys **Bhuna - Chicken**, there's a relatively high probability they will also purchase **Plain Rice** and **Chicken Tikka Balti**, with **\"Chicken Tikka Balti\"** having the highest confidence among the associations."
   ]
  },
  {
   "cell_type": "code",
   "execution_count": 161,
   "id": "6134cdbe-90c3-401d-b22a-246629749c32",
   "metadata": {},
   "outputs": [
    {
     "data": {
      "image/png": "[encoded data removed]",
      "text/plain": [
       "<Figure size 640x480 with 1 Axes>"
      ]
     },
     "metadata": {},
     "output_type": "display_data"
    }
   ],
   "source": [
    "G = nx.Graph()\n",
    "for _, row in filtered_rules.iterrows():\n",
    "    for antecedent in row['antecedents']:\n",
    "        for consequent in row['consequents']:\n",
    "            G.add_edge(antecedent, consequent, weight=row['support'])\n",
    "pos = nx.spring_layout(G, seed=42)\n",
    "nx.draw(G, pos, with_labels=True, node_size=2000, font_size=10, font_weight='bold', node_color='yellow', edge_color='gray')\n",
    "nx.draw_networkx_edge_labels(G, pos, edge_labels={(u, v): f\"{d['weight']:.2f}\" for u, v, d in G.edges(data=True)}, font_size=8)\n",
    "plt.title(\"Network Graph of Filtered Association Rules\")\n",
    "plt.show()"
   ]
  },
  {
   "cell_type": "markdown",
   "id": "7aea530d-29c8-445a-865e-3b8da6fdfb3d",
   "metadata": {},
   "source": [
    "Here are the specific relationships and their support values:  **Bhuna - Chicken** is associated with **Plain Rice** with a support value of **0.21**. **Bhuna - Chicken** is also linked to **Chicken Tikka Balti** with a support value of **0.11**. **Plain Rice** has an association with **Chicken Tikka Balti** with a support value of **0.11**. The edges are weighted by **support** values. Here are the key relationships.The **support** values represent the proportion of transactions where both items occur together. The **\"Bhuna - Chicken\"** and **\"Plain Rice\"** pair is the most common combination, with **support = 0.21**, followed by **\"Bhuna - Chicken\"** and **\"Chicken Tikka Balti\"**."
   ]
  },
  {
   "cell_type": "markdown",
   "id": "dfe50b66-b0b4-4921-af1c-e14d7db90e40",
   "metadata": {},
   "source": [
    "If we compare them we can say that **Confidence** measures the likelihood that the consequent item will be purchased given that the antecedent item is bought. In this case, the highest confidence is found between *\"Bhuna - Chicken\"* and *\"Chicken Tikka Balti\"* (0.49), which suggests that customers who buy *Bhuna - Chicken* are most likely to also purchase *Chicken Tikka Balti*. **Support**, on the other hand, represents the frequency of both items being bought together in all transactions. The highest support is between *\"Bhuna - Chicken\"* and *\"Plain Rice\"* (0.21), indicating that this combination appears more frequently in the transaction data.\n",
    "\n",
    " the **Confidence** graph highlights strong associations with higher likelihoods, while the **Support** graph highlights more frequently occurring pairs in the data.\n"
   ]
  },
  {
   "cell_type": "code",
   "execution_count": 163,
   "id": "54ca2a87-3991-4dab-9f8e-63c822568d5e",
   "metadata": {},
   "outputs": [
    {
     "data": {
      "image/png": "[encoded data removed]",
      "text/plain": [
       "<Figure size 640x480 with 1 Axes>"
      ]
     },
     "metadata": {},
     "output_type": "display_data"
    }
   ],
   "source": [
    "sns.scatterplot(data=filtered_rules, x='support', y='confidence', size='lift', hue='lift', palette='viridis', legend=True)\n",
    "plt.title(\"Support vs Confidence (Size and Color Represent Lift)\")\n",
    "plt.xlabel('Support')\n",
    "plt.ylabel('Confidence')\n",
    "plt.legend(title='Lift', loc='best')\n",
    "plt.show()"
   ]
  },
  {
   "cell_type": "markdown",
   "id": "214dd96c-b4dc-408e-bc4f-6871872cb005",
   "metadata": {},
   "source": [
    " The x-axis is labeled \"Support\" and ranges from approximately 0.12 to 0.22. It represents the proportion of transactions in which a particular itemset appears. The y-axis is labeled \"Confidence\" and ranges from approximately 0.25 to 0.50. It indicates the likelihood of the consequent item being present in transactions given the antecedent item is present. The size and color of the points reflect the lift values, which measure the strength of the association between items. Higher lift values indicate stronger association rules.\n",
    "\n",
    " Items with **higher confidence** (above 0.4) tend to have relatively moderate support (around 0.2), suggesting that the consequent items are likely to be bought when the antecedent is purchased.\n",
    " The points representing **stronger associations** (those with **larger sizes** and **darker colors**) suggest that these item pairs have higher lift values, meaning that the items appear together more often than expected by chance, indicating a strong relationship between them."
   ]
  },
  {
   "cell_type": "code",
   "execution_count": 165,
   "id": "8d64e394-5cc0-43de-9cb7-b119e4a094de",
   "metadata": {},
   "outputs": [
    {
     "name": "stdout",
     "output_type": "stream",
     "text": [
      "Strong Rules:\n"
     ]
    },
    {
     "data": {
      "text/html": [
       "<div>\n",
       "<style scoped>\n",
       "    .dataframe tbody tr th:only-of-type {\n",
       "        vertical-align: middle;\n",
       "    }\n",
       "\n",
       "    .dataframe tbody tr th {\n",
       "        vertical-align: top;\n",
       "    }\n",
       "\n",
       "    .dataframe thead th {\n",
       "        text-align: right;\n",
       "    }\n",
       "</style>\n",
       "<table border=\"1\" class=\"dataframe\">\n",
       "  <thead>\n",
       "    <tr style=\"text-align: right;\">\n",
       "      <th></th>\n",
       "      <th>antecedents</th>\n",
       "      <th>consequents</th>\n",
       "      <th>antecedent support</th>\n",
       "      <th>consequent support</th>\n",
       "      <th>support</th>\n",
       "      <th>confidence</th>\n",
       "      <th>lift</th>\n",
       "      <th>leverage</th>\n",
       "      <th>conviction</th>\n",
       "    </tr>\n",
       "  </thead>\n",
       "  <tbody>\n",
       "    <tr>\n",
       "      <th>0</th>\n",
       "      <td>(Plain Rice)</td>\n",
       "      <td>(Bhuna - Chicken)</td>\n",
       "      <td>0.463133</td>\n",
       "      <td>0.454950</td>\n",
       "      <td>0.214747</td>\n",
       "      <td>0.463683</td>\n",
       "      <td>1.019194</td>\n",
       "      <td>0.004044</td>\n",
       "      <td>1.016282</td>\n",
       "    </tr>\n",
       "    <tr>\n",
       "      <th>1</th>\n",
       "      <td>(Bhuna - Chicken)</td>\n",
       "      <td>(Plain Rice)</td>\n",
       "      <td>0.454950</td>\n",
       "      <td>0.463133</td>\n",
       "      <td>0.214747</td>\n",
       "      <td>0.472022</td>\n",
       "      <td>1.019194</td>\n",
       "      <td>0.004044</td>\n",
       "      <td>1.016837</td>\n",
       "    </tr>\n",
       "    <tr>\n",
       "      <th>4</th>\n",
       "      <td>(Chicken Tikka Balti)</td>\n",
       "      <td>(Bhuna - Chicken)</td>\n",
       "      <td>0.222384</td>\n",
       "      <td>0.454950</td>\n",
       "      <td>0.108373</td>\n",
       "      <td>0.487326</td>\n",
       "      <td>1.071163</td>\n",
       "      <td>0.007200</td>\n",
       "      <td>1.063151</td>\n",
       "    </tr>\n",
       "    <tr>\n",
       "      <th>5</th>\n",
       "      <td>(Bhuna - Chicken)</td>\n",
       "      <td>(Chicken Tikka Balti)</td>\n",
       "      <td>0.454950</td>\n",
       "      <td>0.222384</td>\n",
       "      <td>0.108373</td>\n",
       "      <td>0.238209</td>\n",
       "      <td>1.071163</td>\n",
       "      <td>0.007200</td>\n",
       "      <td>1.020774</td>\n",
       "    </tr>\n",
       "    <tr>\n",
       "      <th>12</th>\n",
       "      <td>(Plain Rice)</td>\n",
       "      <td>(Chicken Tikka Balti)</td>\n",
       "      <td>0.463133</td>\n",
       "      <td>0.222384</td>\n",
       "      <td>0.114010</td>\n",
       "      <td>0.246172</td>\n",
       "      <td>1.106969</td>\n",
       "      <td>0.011017</td>\n",
       "      <td>1.031556</td>\n",
       "    </tr>\n",
       "    <tr>\n",
       "      <th>13</th>\n",
       "      <td>(Chicken Tikka Balti)</td>\n",
       "      <td>(Plain Rice)</td>\n",
       "      <td>0.222384</td>\n",
       "      <td>0.463133</td>\n",
       "      <td>0.114010</td>\n",
       "      <td>0.512674</td>\n",
       "      <td>1.106969</td>\n",
       "      <td>0.011017</td>\n",
       "      <td>1.101658</td>\n",
       "    </tr>\n",
       "  </tbody>\n",
       "</table>\n",
       "</div>"
      ],
      "text/plain": [
       "              antecedents            consequents  antecedent support  \\\n",
       "0            (Plain Rice)      (Bhuna - Chicken)            0.463133   \n",
       "1       (Bhuna - Chicken)           (Plain Rice)            0.454950   \n",
       "4   (Chicken Tikka Balti)      (Bhuna - Chicken)            0.222384   \n",
       "5       (Bhuna - Chicken)  (Chicken Tikka Balti)            0.454950   \n",
       "12           (Plain Rice)  (Chicken Tikka Balti)            0.463133   \n",
       "13  (Chicken Tikka Balti)           (Plain Rice)            0.222384   \n",
       "\n",
       "    consequent support   support  confidence      lift  leverage  conviction  \n",
       "0             0.454950  0.214747    0.463683  1.019194  0.004044    1.016282  \n",
       "1             0.463133  0.214747    0.472022  1.019194  0.004044    1.016837  \n",
       "4             0.454950  0.108373    0.487326  1.071163  0.007200    1.063151  \n",
       "5             0.222384  0.108373    0.238209  1.071163  0.007200    1.020774  \n",
       "12            0.222384  0.114010    0.246172  1.106969  0.011017    1.031556  \n",
       "13            0.463133  0.114010    0.512674  1.106969  0.011017    1.101658  "
      ]
     },
     "execution_count": 165,
     "metadata": {},
     "output_type": "execute_result"
    }
   ],
   "source": [
    "high_lift_threshold = 1.0\n",
    "high_confidence_threshold = 0.2\n",
    "strong_rules = rules[(rules['lift'] > high_lift_threshold) & (rules['confidence'] > high_confidence_threshold)]\n",
    "print(\"Strong Rules:\")\n",
    "strong_rules"
   ]
  },
  {
   "cell_type": "code",
   "execution_count": 167,
   "id": "8251e1fa-faf1-4f55-a280-3c3f755abee4",
   "metadata": {},
   "outputs": [
    {
     "data": {
      "image/png": "[encoded data removed]",
      "text/plain": [
       "<Figure size 640x480 with 2 Axes>"
      ]
     },
     "metadata": {},
     "output_type": "display_data"
    }
   ],
   "source": [
    "heatmap_data = rules.pivot(index='antecedents', columns='consequents', values='lift')\n",
    "sns.heatmap(heatmap_data, annot=True, cmap=\"YlGnBu\", fmt=\".2f\")\n",
    "plt.title(\"Heatmap of Lift Values\")\n",
    "plt.show()"
   ]
  },
  {
   "cell_type": "code",
   "execution_count": 205,
   "id": "9eac955c-d84c-4f5c-86e1-381b8a893958",
   "metadata": {},
   "outputs": [
    {
     "name": "stdout",
     "output_type": "stream",
     "text": [
      "Frequent Itemsets from FP-Growth:\n",
      "    support                 itemsets\n",
      "0  0.463133             (Plain Rice)\n",
      "1  0.454950        (Bhuna - Chicken)\n",
      "2  0.222384    (Chicken Tikka Balti)\n",
      "3  0.127739  (House white wine 75cl)\n",
      "4  0.034185       (Vindaloo - Prawn)\n",
      "\n",
      "Association Rules from FP-Growth:\n",
      "             antecedents            consequents  antecedent support  \\\n",
      "0           (Plain Rice)      (Bhuna - Chicken)            0.463133   \n",
      "1      (Bhuna - Chicken)           (Plain Rice)            0.454950   \n",
      "2           (Plain Rice)  (Chicken Tikka Balti)            0.463133   \n",
      "3  (Chicken Tikka Balti)           (Plain Rice)            0.222384   \n",
      "4  (Chicken Tikka Balti)      (Bhuna - Chicken)            0.222384   \n",
      "\n",
      "   consequent support   support  confidence      lift  leverage  conviction  \n",
      "0            0.454950  0.214747    0.463683  1.019194  0.004044    1.016282  \n",
      "1            0.463133  0.214747    0.472022  1.019194  0.004044    1.016837  \n",
      "2            0.222384  0.114010    0.246172  1.106969  0.011017    1.031556  \n",
      "3            0.463133  0.114010    0.512674  1.106969  0.011017    1.101658  \n",
      "4            0.454950  0.108373    0.487326  1.071163  0.007200    1.063151  \n"
     ]
    },
    {
     "data": {
      "text/plain": [
       "({'Apriori Itemsets':      support                                  itemsets\n",
       "  0   0.454950                         (Bhuna - Chicken)\n",
       "  1   0.026002                            (Korma - Lamb)\n",
       "  2   0.463133                              (Plain Rice)\n",
       "  3   0.127739                   (House white wine 75cl)\n",
       "  4   0.222384                     (Chicken Tikka Balti)\n",
       "  5   0.091827                      (Special Fried Rice)\n",
       "  6   0.066461                                   (Curry)\n",
       "  7   0.045095                            (Lamb Biryani)\n",
       "  8   0.034185                        (Vindaloo - Prawn)\n",
       "  9   0.214747             (Plain Rice, Bhuna - Chicken)\n",
       "  10  0.031548  (House white wine 75cl, Bhuna - Chicken)\n",
       "  11  0.108373    (Chicken Tikka Balti, Bhuna - Chicken)\n",
       "  12  0.020275     (Special Fried Rice, Bhuna - Chicken)\n",
       "  13  0.010092                  (Curry, Bhuna - Chicken)\n",
       "  14  0.032821       (Plain Rice, House white wine 75cl)\n",
       "  15  0.114010         (Plain Rice, Chicken Tikka Balti)\n",
       "  16  0.018638          (Plain Rice, Special Fried Rice)\n",
       "  17  0.012728                       (Plain Rice, Curry),\n",
       "  'FP-Growth Itemsets':      support                                  itemsets\n",
       "  0   0.463133                              (Plain Rice)\n",
       "  1   0.454950                         (Bhuna - Chicken)\n",
       "  2   0.222384                     (Chicken Tikka Balti)\n",
       "  3   0.127739                   (House white wine 75cl)\n",
       "  4   0.034185                        (Vindaloo - Prawn)\n",
       "  5   0.045095                            (Lamb Biryani)\n",
       "  6   0.026002                            (Korma - Lamb)\n",
       "  7   0.066461                                   (Curry)\n",
       "  8   0.091827                      (Special Fried Rice)\n",
       "  9   0.214747             (Plain Rice, Bhuna - Chicken)\n",
       "  10  0.114010         (Plain Rice, Chicken Tikka Balti)\n",
       "  11  0.108373    (Chicken Tikka Balti, Bhuna - Chicken)\n",
       "  12  0.031548  (House white wine 75cl, Bhuna - Chicken)\n",
       "  13  0.032821       (Plain Rice, House white wine 75cl)\n",
       "  14  0.012728                       (Plain Rice, Curry)\n",
       "  15  0.010092                  (Curry, Bhuna - Chicken)\n",
       "  16  0.020275     (Special Fried Rice, Bhuna - Chicken)\n",
       "  17  0.018638          (Plain Rice, Special Fried Rice)},\n",
       " {'Apriori Rules':             antecedents          consequents  antecedent support  \\\n",
       "  0            Plain Rice      Bhuna - Chicken            0.463133   \n",
       "  1       Bhuna - Chicken           Plain Rice            0.454950   \n",
       "  4   Chicken Tikka Balti      Bhuna - Chicken            0.222384   \n",
       "  5       Bhuna - Chicken  Chicken Tikka Balti            0.454950   \n",
       "  12           Plain Rice  Chicken Tikka Balti            0.463133   \n",
       "  13  Chicken Tikka Balti           Plain Rice            0.222384   \n",
       "  \n",
       "      consequent support   support  confidence      lift  leverage  conviction  \n",
       "  0             0.454950  0.214747    0.463683  1.019194  0.004044    1.016282  \n",
       "  1             0.463133  0.214747    0.472022  1.019194  0.004044    1.016837  \n",
       "  4             0.454950  0.108373    0.487326  1.071163  0.007200    1.063151  \n",
       "  5             0.222384  0.108373    0.238209  1.071163  0.007200    1.020774  \n",
       "  12            0.222384  0.114010    0.246172  1.106969  0.011017    1.031556  \n",
       "  13            0.463133  0.114010    0.512674  1.106969  0.011017    1.101658  ,\n",
       "  'FP-Growth Rules':              antecedents            consequents  antecedent support  \\\n",
       "  0           (Plain Rice)      (Bhuna - Chicken)            0.463133   \n",
       "  1      (Bhuna - Chicken)           (Plain Rice)            0.454950   \n",
       "  2           (Plain Rice)  (Chicken Tikka Balti)            0.463133   \n",
       "  3  (Chicken Tikka Balti)           (Plain Rice)            0.222384   \n",
       "  4  (Chicken Tikka Balti)      (Bhuna - Chicken)            0.222384   \n",
       "  5      (Bhuna - Chicken)  (Chicken Tikka Balti)            0.454950   \n",
       "  \n",
       "     consequent support   support  confidence      lift  leverage  conviction  \n",
       "  0            0.454950  0.214747    0.463683  1.019194  0.004044    1.016282  \n",
       "  1            0.463133  0.214747    0.472022  1.019194  0.004044    1.016837  \n",
       "  2            0.222384  0.114010    0.246172  1.106969  0.011017    1.031556  \n",
       "  3            0.463133  0.114010    0.512674  1.106969  0.011017    1.101658  \n",
       "  4            0.454950  0.108373    0.487326  1.071163  0.007200    1.063151  \n",
       "  5            0.222384  0.108373    0.238209  1.071163  0.007200    1.020774  })"
      ]
     },
     "execution_count": 205,
     "metadata": {},
     "output_type": "execute_result"
    }
   ],
   "source": [
    "from mlxtend.frequent_patterns import fpgrowth, association_rules\n",
    "min_support = 0.01  \n",
    "frequent_itemsets_fp = fpgrowth(product_columns, min_support=min_support, use_colnames=True)\n",
    "rules_fp = association_rules(frequent_itemsets_fp, metric=\"confidence\", min_threshold=0.1)\n",
    "filtered_rules_fp = rules_fp[(rules_fp['lift'] > 1.0) & (rules_fp['confidence'] > 0.1)]\n",
    "print(\"Frequent Itemsets from FP-Growth:\")\n",
    "print(frequent_itemsets_fp.head())\n",
    "\n",
    "print(\"\\nAssociation Rules from FP-Growth:\")\n",
    "print(filtered_rules_fp.head())\n",
    "frequent_itemsets_comparison = {\n",
    "    \"Apriori Itemsets\": frequent_itemsets,\n",
    "    \"FP-Growth Itemsets\": frequent_itemsets_fp\n",
    "}\n",
    "\n",
    "rules_comparison = {\n",
    "    \"Apriori Rules\": filtered_rules,\n",
    "    \"FP-Growth Rules\": filtered_rules_fp\n",
    "}\n",
    "\n",
    "frequent_itemsets_comparison, rules_comparison\n"
   ]
  },
  {
   "cell_type": "markdown",
   "id": "aa8c4643-ce9f-46b3-accc-bee32d414f22",
   "metadata": {},
   "source": [
    " After analyzing the statistics, *Apriori* seems to be the better method for this dataset, despite the similarities between the two methods.*Apriori* provides clear and understandable results for association rules and frequent itemsets. For example, the rule `(Plain Rice) -> (Bhuna - Chicken)` from Apriori shows a *confidence of 0.472022*, which is fairly high and easy to interpret for business decisions. This rule is intuitive: customers who buy *Plain Rice* are very likely to purchase *Bhuna - Chicken* as well.Similarly, *Apriori* also generates frequent itemsets like `(Plain Rice)` with a support of *0.463133*, directly pointing out the most frequent items in a simple and straightforward manner. *Apriori* produces rules with a balance of confidence and lift, such as the rule `(Plain Rice, Chicken Tikka Balti)` with support *0.114010* and confidence *0.246172*, which reflects a meaningful association between two items at a moderate level. This is useful when you need more granular associations. On the other hand, *FP-Growth* sometimes focuses on fewer but stronger rules, which might miss subtler patterns present in the data. Apriori’s ability to consider a broader set of item combinations makes it suitable for exploring multiple relationships in the data.Although *FP-Growth* is known for being more efficient with larger datasets, *Apriori* works just as well in this scenario where the dataset isn’t extremely large. Since the dataset here involves relatively moderate frequency itemsets (e.g., `(Plain Rice)`, `(Bhuna - Chicken)`), *Apriori* is sufficient in delivering useful insights without introducing the complexity of more efficient methods like FP-Growth."
   ]
  },
  {
   "cell_type": "code",
   "execution_count": 179,
   "id": "3251a097-f4f7-4742-9a73-688f10d28cc0",
   "metadata": {},
   "outputs": [
    {
     "name": "stderr",
     "output_type": "stream",
     "text": [
      "C:\\Users\\khami\\AppData\\Local\\Temp\\ipykernel_16388\\2156774541.py:4: SettingWithCopyWarning:\n",
      "\n",
      "\n",
      "A value is trying to be set on a copy of a slice from a DataFrame.\n",
      "Try using .loc[row_indexer,col_indexer] = value instead\n",
      "\n",
      "See the caveats in the documentation: https://pandas.pydata.org/pandas-docs/stable/user_guide/indexing.html#returning-a-view-versus-a-copy\n",
      "\n",
      "C:\\Users\\khami\\AppData\\Local\\Temp\\ipykernel_16388\\2156774541.py:5: SettingWithCopyWarning:\n",
      "\n",
      "\n",
      "A value is trying to be set on a copy of a slice from a DataFrame.\n",
      "Try using .loc[row_indexer,col_indexer] = value instead\n",
      "\n",
      "See the caveats in the documentation: https://pandas.pydata.org/pandas-docs/stable/user_guide/indexing.html#returning-a-view-versus-a-copy\n",
      "\n"
     ]
    },
    {
     "data": {
      "application/vnd.plotly.v1+json": {
       "config": {
        "plotlyServerURL": "https://plot.ly"
       },
       "data": [
        {
         "link": {
          "color": "blue",
          "source": [
           0,
           2,
           1,
           2,
           0,
           1
          ],
          "target": [
           2,
           0,
           2,
           1,
           1,
           0
          ],
          "value": [
           1.0191939891353505,
           1.0191939891353505,
           1.0711633473270443,
           1.071163347327044,
           1.1069687102425345,
           1.1069687102425345
          ]
         },
         "node": {
          "label": [
           "Plain Rice",
           "Chicken Tikka Balti",
           "Bhuna - Chicken"
          ],
          "line": {
           "color": "black",
           "width": 0.5
          },
          "pad": 15,
          "thickness": 20
         },
         "type": "sankey"
        }
       ],
       "layout": {
        "autosize": true,
        "font": {
         "size": 10
        },
        "template": {
         "data": {
          "bar": [
           {
            "error_x": {
             "color": "#2a3f5f"
            },
            "error_y": {
             "color": "#2a3f5f"
            },
            "marker": {
             "line": {
              "color": "#E5ECF6",
              "width": 0.5
             },
             "pattern": {
              "fillmode": "overlay",
              "size": 10,
              "solidity": 0.2
             }
            },
            "type": "bar"
           }
          ],
          "barpolar": [
           {
            "marker": {
             "line": {
              "color": "#E5ECF6",
              "width": 0.5
             },
             "pattern": {
              "fillmode": "overlay",
              "size": 10,
              "solidity": 0.2
             }
            },
            "type": "barpolar"
           }
          ],
          "carpet": [
           {
            "aaxis": {
             "endlinecolor": "#2a3f5f",
             "gridcolor": "white",
             "linecolor": "white",
             "minorgridcolor": "white",
             "startlinecolor": "#2a3f5f"
            },
            "baxis": {
             "endlinecolor": "#2a3f5f",
             "gridcolor": "white",
             "linecolor": "white",
             "minorgridcolor": "white",
             "startlinecolor": "#2a3f5f"
            },
            "type": "carpet"
           }
          ],
          "choropleth": [
           {
            "colorbar": {
             "outlinewidth": 0,
             "ticks": ""
            },
            "type": "choropleth"
           }
          ],
          "contour": [
           {
            "colorbar": {
             "outlinewidth": 0,
             "ticks": ""
            },
            "colorscale": [
             [
              0,
              "#0d0887"
             ],
             [
              0.1111111111111111,
              "#46039f"
             ],
             [
              0.2222222222222222,
              "#7201a8"
             ],
             [
              0.3333333333333333,
              "#9c179e"
             ],
             [
              0.4444444444444444,
              "#bd3786"
             ],
             [
              0.5555555555555556,
              "#d8576b"
             ],
             [
              0.6666666666666666,
              "#ed7953"
             ],
             [
              0.7777777777777778,
              "#fb9f3a"
             ],
             [
              0.8888888888888888,
              "#fdca26"
             ],
             [
              1,
              "#f0f921"
             ]
            ],
            "type": "contour"
           }
          ],
          "contourcarpet": [
           {
            "colorbar": {
             "outlinewidth": 0,
             "ticks": ""
            },
            "type": "contourcarpet"
           }
          ],
          "heatmap": [
           {
            "colorbar": {
             "outlinewidth": 0,
             "ticks": ""
            },
            "colorscale": [
             [
              0,
              "#0d0887"
             ],
             [
              0.1111111111111111,
              "#46039f"
             ],
             [
              0.2222222222222222,
              "#7201a8"
             ],
             [
              0.3333333333333333,
              "#9c179e"
             ],
             [
              0.4444444444444444,
              "#bd3786"
             ],
             [
              0.5555555555555556,
              "#d8576b"
             ],
             [
              0.6666666666666666,
              "#ed7953"
             ],
             [
              0.7777777777777778,
              "#fb9f3a"
             ],
             [
              0.8888888888888888,
              "#fdca26"
             ],
             [
              1,
              "#f0f921"
             ]
            ],
            "type": "heatmap"
           }
          ],
          "heatmapgl": [
           {
            "colorbar": {
             "outlinewidth": 0,
             "ticks": ""
            },
            "colorscale": [
             [
              0,
              "#0d0887"
             ],
             [
              0.1111111111111111,
              "#46039f"
             ],
             [
              0.2222222222222222,
              "#7201a8"
             ],
             [
              0.3333333333333333,
              "#9c179e"
             ],
             [
              0.4444444444444444,
              "#bd3786"
             ],
             [
              0.5555555555555556,
              "#d8576b"
             ],
             [
              0.6666666666666666,
              "#ed7953"
             ],
             [
              0.7777777777777778,
              "#fb9f3a"
             ],
             [
              0.8888888888888888,
              "#fdca26"
             ],
             [
              1,
              "#f0f921"
             ]
            ],
            "type": "heatmapgl"
           }
          ],
          "histogram": [
           {
            "marker": {
             "pattern": {
              "fillmode": "overlay",
              "size": 10,
              "solidity": 0.2
             }
            },
            "type": "histogram"
           }
          ],
          "histogram2d": [
           {
            "colorbar": {
             "outlinewidth": 0,
             "ticks": ""
            },
            "colorscale": [
             [
              0,
              "#0d0887"
             ],
             [
              0.1111111111111111,
              "#46039f"
             ],
             [
              0.2222222222222222,
              "#7201a8"
             ],
             [
              0.3333333333333333,
              "#9c179e"
             ],
             [
              0.4444444444444444,
              "#bd3786"
             ],
             [
              0.5555555555555556,
              "#d8576b"
             ],
             [
              0.6666666666666666,
              "#ed7953"
             ],
             [
              0.7777777777777778,
              "#fb9f3a"
             ],
             [
              0.8888888888888888,
              "#fdca26"
             ],
             [
              1,
              "#f0f921"
             ]
            ],
            "type": "histogram2d"
           }
          ],
          "histogram2dcontour": [
           {
            "colorbar": {
             "outlinewidth": 0,
             "ticks": ""
            },
            "colorscale": [
             [
              0,
              "#0d0887"
             ],
             [
              0.1111111111111111,
              "#46039f"
             ],
             [
              0.2222222222222222,
              "#7201a8"
             ],
             [
              0.3333333333333333,
              "#9c179e"
             ],
             [
              0.4444444444444444,
              "#bd3786"
             ],
             [
              0.5555555555555556,
              "#d8576b"
             ],
             [
              0.6666666666666666,
              "#ed7953"
             ],
             [
              0.7777777777777778,
              "#fb9f3a"
             ],
             [
              0.8888888888888888,
              "#fdca26"
             ],
             [
              1,
              "#f0f921"
             ]
            ],
            "type": "histogram2dcontour"
           }
          ],
          "mesh3d": [
           {
            "colorbar": {
             "outlinewidth": 0,
             "ticks": ""
            },
            "type": "mesh3d"
           }
          ],
          "parcoords": [
           {
            "line": {
             "colorbar": {
              "outlinewidth": 0,
              "ticks": ""
             }
            },
            "type": "parcoords"
           }
          ],
          "pie": [
           {
            "automargin": true,
            "type": "pie"
           }
          ],
          "scatter": [
           {
            "fillpattern": {
             "fillmode": "overlay",
             "size": 10,
             "solidity": 0.2
            },
            "type": "scatter"
           }
          ],
          "scatter3d": [
           {
            "line": {
             "colorbar": {
              "outlinewidth": 0,
              "ticks": ""
             }
            },
            "marker": {
             "colorbar": {
              "outlinewidth": 0,
              "ticks": ""
             }
            },
            "type": "scatter3d"
           }
          ],
          "scattercarpet": [
           {
            "marker": {
             "colorbar": {
              "outlinewidth": 0,
              "ticks": ""
             }
            },
            "type": "scattercarpet"
           }
          ],
          "scattergeo": [
           {
            "marker": {
             "colorbar": {
              "outlinewidth": 0,
              "ticks": ""
             }
            },
            "type": "scattergeo"
           }
          ],
          "scattergl": [
           {
            "marker": {
             "colorbar": {
              "outlinewidth": 0,
              "ticks": ""
             }
            },
            "type": "scattergl"
           }
          ],
          "scattermapbox": [
           {
            "marker": {
             "colorbar": {
              "outlinewidth": 0,
              "ticks": ""
             }
            },
            "type": "scattermapbox"
           }
          ],
          "scatterpolar": [
           {
            "marker": {
             "colorbar": {
              "outlinewidth": 0,
              "ticks": ""
             }
            },
            "type": "scatterpolar"
           }
          ],
          "scatterpolargl": [
           {
            "marker": {
             "colorbar": {
              "outlinewidth": 0,
              "ticks": ""
             }
            },
            "type": "scatterpolargl"
           }
          ],
          "scatterternary": [
           {
            "marker": {
             "colorbar": {
              "outlinewidth": 0,
              "ticks": ""
             }
            },
            "type": "scatterternary"
           }
          ],
          "surface": [
           {
            "colorbar": {
             "outlinewidth": 0,
             "ticks": ""
            },
            "colorscale": [
             [
              0,
              "#0d0887"
             ],
             [
              0.1111111111111111,
              "#46039f"
             ],
             [
              0.2222222222222222,
              "#7201a8"
             ],
             [
              0.3333333333333333,
              "#9c179e"
             ],
             [
              0.4444444444444444,
              "#bd3786"
             ],
             [
              0.5555555555555556,
              "#d8576b"
             ],
             [
              0.6666666666666666,
              "#ed7953"
             ],
             [
              0.7777777777777778,
              "#fb9f3a"
             ],
             [
              0.8888888888888888,
              "#fdca26"
             ],
             [
              1,
              "#f0f921"
             ]
            ],
            "type": "surface"
           }
          ],
          "table": [
           {
            "cells": {
             "fill": {
              "color": "#EBF0F8"
             },
             "line": {
              "color": "white"
             }
            },
            "header": {
             "fill": {
              "color": "#C8D4E3"
             },
             "line": {
              "color": "white"
             }
            },
            "type": "table"
           }
          ]
         },
         "layout": {
          "annotationdefaults": {
           "arrowcolor": "#2a3f5f",
           "arrowhead": 0,
           "arrowwidth": 1
          },
          "autotypenumbers": "strict",
          "coloraxis": {
           "colorbar": {
            "outlinewidth": 0,
            "ticks": ""
           }
          },
          "colorscale": {
           "diverging": [
            [
             0,
             "#8e0152"
            ],
            [
             0.1,
             "#c51b7d"
            ],
            [
             0.2,
             "#de77ae"
            ],
            [
             0.3,
             "#f1b6da"
            ],
            [
             0.4,
             "#fde0ef"
            ],
            [
             0.5,
             "#f7f7f7"
            ],
            [
             0.6,
             "#e6f5d0"
            ],
            [
             0.7,
             "#b8e186"
            ],
            [
             0.8,
             "#7fbc41"
            ],
            [
             0.9,
             "#4d9221"
            ],
            [
             1,
             "#276419"
            ]
           ],
           "sequential": [
            [
             0,
             "#0d0887"
            ],
            [
             0.1111111111111111,
             "#46039f"
            ],
            [
             0.2222222222222222,
             "#7201a8"
            ],
            [
             0.3333333333333333,
             "#9c179e"
            ],
            [
             0.4444444444444444,
             "#bd3786"
            ],
            [
             0.5555555555555556,
             "#d8576b"
            ],
            [
             0.6666666666666666,
             "#ed7953"
            ],
            [
             0.7777777777777778,
             "#fb9f3a"
            ],
            [
             0.8888888888888888,
             "#fdca26"
            ],
            [
             1,
             "#f0f921"
            ]
           ],
           "sequentialminus": [
            [
             0,
             "#0d0887"
            ],
            [
             0.1111111111111111,
             "#46039f"
            ],
            [
             0.2222222222222222,
             "#7201a8"
            ],
            [
             0.3333333333333333,
             "#9c179e"
            ],
            [
             0.4444444444444444,
             "#bd3786"
            ],
            [
             0.5555555555555556,
             "#d8576b"
            ],
            [
             0.6666666666666666,
             "#ed7953"
            ],
            [
             0.7777777777777778,
             "#fb9f3a"
            ],
            [
             0.8888888888888888,
             "#fdca26"
            ],
            [
             1,
             "#f0f921"
            ]
           ]
          },
          "colorway": [
           "#636efa",
           "#EF553B",
           "#00cc96",
           "#ab63fa",
           "#FFA15A",
           "#19d3f3",
           "#FF6692",
           "#B6E880",
           "#FF97FF",
           "#FECB52"
          ],
          "font": {
           "color": "#2a3f5f"
          },
          "geo": {
           "bgcolor": "white",
           "lakecolor": "white",
           "landcolor": "#E5ECF6",
           "showlakes": true,
           "showland": true,
           "subunitcolor": "white"
          },
          "hoverlabel": {
           "align": "left"
          },
          "hovermode": "closest",
          "mapbox": {
           "style": "light"
          },
          "paper_bgcolor": "white",
          "plot_bgcolor": "#E5ECF6",
          "polar": {
           "angularaxis": {
            "gridcolor": "white",
            "linecolor": "white",
            "ticks": ""
           },
           "bgcolor": "#E5ECF6",
           "radialaxis": {
            "gridcolor": "white",
            "linecolor": "white",
            "ticks": ""
           }
          },
          "scene": {
           "xaxis": {
            "backgroundcolor": "#E5ECF6",
            "gridcolor": "white",
            "gridwidth": 2,
            "linecolor": "white",
            "showbackground": true,
            "ticks": "",
            "zerolinecolor": "white"
           },
           "yaxis": {
            "backgroundcolor": "#E5ECF6",
            "gridcolor": "white",
            "gridwidth": 2,
            "linecolor": "white",
            "showbackground": true,
            "ticks": "",
            "zerolinecolor": "white"
           },
           "zaxis": {
            "backgroundcolor": "#E5ECF6",
            "gridcolor": "white",
            "gridwidth": 2,
            "linecolor": "white",
            "showbackground": true,
            "ticks": "",
            "zerolinecolor": "white"
           }
          },
          "shapedefaults": {
           "line": {
            "color": "#2a3f5f"
           }
          },
          "ternary": {
           "aaxis": {
            "gridcolor": "white",
            "linecolor": "white",
            "ticks": ""
           },
           "baxis": {
            "gridcolor": "white",
            "linecolor": "white",
            "ticks": ""
           },
           "bgcolor": "#E5ECF6",
           "caxis": {
            "gridcolor": "white",
            "linecolor": "white",
            "ticks": ""
           }
          },
          "title": {
           "x": 0.05
          },
          "xaxis": {
           "automargin": true,
           "gridcolor": "white",
           "linecolor": "white",
           "ticks": "",
           "title": {
            "standoff": 15
           },
           "zerolinecolor": "white",
           "zerolinewidth": 2
          },
          "yaxis": {
           "automargin": true,
           "gridcolor": "white",
           "linecolor": "white",
           "ticks": "",
           "title": {
            "standoff": 15
           },
           "zerolinecolor": "white",
           "zerolinewidth": 2
          }
         }
        },
        "title": {
         "text": "Sankey Diagram of Association Rules (Lift as Flow)"
        }
       }
      },
      "image/png": "[encoded data removed]",
      "text/html": [
       "<div>                            <div id=\"b72ab766-f765-4c2a-a934-d5c91174a960\" class=\"plotly-graph-div\" style=\"height:525px; width:100%;\"></div>            <script type=\"text/javascript\">                require([\"plotly\"], function(Plotly) {                    window.PLOTLYENV=window.PLOTLYENV || {};                                    if (document.getElementById(\"b72ab766-f765-4c2a-a934-d5c91174a960\")) {                    Plotly.newPlot(                        \"b72ab766-f765-4c2a-a934-d5c91174a960\",                        [{\"link\":{\"color\":\"blue\",\"source\":[0,2,1,2,0,1],\"target\":[2,0,2,1,1,0],\"value\":[1.0191939891353505,1.0191939891353505,1.0711633473270443,1.071163347327044,1.1069687102425345,1.1069687102425345]},\"node\":{\"label\":[\"Plain Rice\",\"Chicken Tikka Balti\",\"Bhuna - Chicken\"],\"line\":{\"color\":\"black\",\"width\":0.5},\"pad\":15,\"thickness\":20},\"type\":\"sankey\"}],                        {\"template\":{\"data\":{\"histogram2dcontour\":[{\"type\":\"histogram2dcontour\",\"colorbar\":{\"outlinewidth\":0,\"ticks\":\"\"},\"colorscale\":[[0.0,\"#0d0887\"],[0.1111111111111111,\"#46039f\"],[0.2222222222222222,\"#7201a8\"],[0.3333333333333333,\"#9c179e\"],[0.4444444444444444,\"#bd3786\"],[0.5555555555555556,\"#d8576b\"],[0.6666666666666666,\"#ed7953\"],[0.7777777777777778,\"#fb9f3a\"],[0.8888888888888888,\"#fdca26\"],[1.0,\"#f0f921\"]]}],\"choropleth\":[{\"type\":\"choropleth\",\"colorbar\":{\"outlinewidth\":0,\"ticks\":\"\"}}],\"histogram2d\":[{\"type\":\"histogram2d\",\"colorbar\":{\"outlinewidth\":0,\"ticks\":\"\"},\"colorscale\":[[0.0,\"#0d0887\"],[0.1111111111111111,\"#46039f\"],[0.2222222222222222,\"#7201a8\"],[0.3333333333333333,\"#9c179e\"],[0.4444444444444444,\"#bd3786\"],[0.5555555555555556,\"#d8576b\"],[0.6666666666666666,\"#ed7953\"],[0.7777777777777778,\"#fb9f3a\"],[0.8888888888888888,\"#fdca26\"],[1.0,\"#f0f921\"]]}],\"heatmap\":[{\"type\":\"heatmap\",\"colorbar\":{\"outlinewidth\":0,\"ticks\":\"\"},\"colorscale\":[[0.0,\"#0d0887\"],[0.1111111111111111,\"#46039f\"],[0.2222222222222222,\"#7201a8\"],[0.3333333333333333,\"#9c179e\"],[0.4444444444444444,\"#bd3786\"],[0.5555555555555556,\"#d8576b\"],[0.6666666666666666,\"#ed7953\"],[0.7777777777777778,\"#fb9f3a\"],[0.8888888888888888,\"#fdca26\"],[1.0,\"#f0f921\"]]}],\"heatmapgl\":[{\"type\":\"heatmapgl\",\"colorbar\":{\"outlinewidth\":0,\"ticks\":\"\"},\"colorscale\":[[0.0,\"#0d0887\"],[0.1111111111111111,\"#46039f\"],[0.2222222222222222,\"#7201a8\"],[0.3333333333333333,\"#9c179e\"],[0.4444444444444444,\"#bd3786\"],[0.5555555555555556,\"#d8576b\"],[0.6666666666666666,\"#ed7953\"],[0.7777777777777778,\"#fb9f3a\"],[0.8888888888888888,\"#fdca26\"],[1.0,\"#f0f921\"]]}],\"contourcarpet\":[{\"type\":\"contourcarpet\",\"colorbar\":{\"outlinewidth\":0,\"ticks\":\"\"}}],\"contour\":[{\"type\":\"contour\",\"colorbar\":{\"outlinewidth\":0,\"ticks\":\"\"},\"colorscale\":[[0.0,\"#0d0887\"],[0.1111111111111111,\"#46039f\"],[0.2222222222222222,\"#7201a8\"],[0.3333333333333333,\"#9c179e\"],[0.4444444444444444,\"#bd3786\"],[0.5555555555555556,\"#d8576b\"],[0.6666666666666666,\"#ed7953\"],[0.7777777777777778,\"#fb9f3a\"],[0.8888888888888888,\"#fdca26\"],[1.0,\"#f0f921\"]]}],\"surface\":[{\"type\":\"surface\",\"colorbar\":{\"outlinewidth\":0,\"ticks\":\"\"},\"colorscale\":[[0.0,\"#0d0887\"],[0.1111111111111111,\"#46039f\"],[0.2222222222222222,\"#7201a8\"],[0.3333333333333333,\"#9c179e\"],[0.4444444444444444,\"#bd3786\"],[0.5555555555555556,\"#d8576b\"],[0.6666666666666666,\"#ed7953\"],[0.7777777777777778,\"#fb9f3a\"],[0.8888888888888888,\"#fdca26\"],[1.0,\"#f0f921\"]]}],\"mesh3d\":[{\"type\":\"mesh3d\",\"colorbar\":{\"outlinewidth\":0,\"ticks\":\"\"}}],\"scatter\":[{\"fillpattern\":{\"fillmode\":\"overlay\",\"size\":10,\"solidity\":0.2},\"type\":\"scatter\"}],\"parcoords\":[{\"type\":\"parcoords\",\"line\":{\"colorbar\":{\"outlinewidth\":0,\"ticks\":\"\"}}}],\"scatterpolargl\":[{\"type\":\"scatterpolargl\",\"marker\":{\"colorbar\":{\"outlinewidth\":0,\"ticks\":\"\"}}}],\"bar\":[{\"error_x\":{\"color\":\"#2a3f5f\"},\"error_y\":{\"color\":\"#2a3f5f\"},\"marker\":{\"line\":{\"color\":\"#E5ECF6\",\"width\":0.5},\"pattern\":{\"fillmode\":\"overlay\",\"size\":10,\"solidity\":0.2}},\"type\":\"bar\"}],\"scattergeo\":[{\"type\":\"scattergeo\",\"marker\":{\"colorbar\":{\"outlinewidth\":0,\"ticks\":\"\"}}}],\"scatterpolar\":[{\"type\":\"scatterpolar\",\"marker\":{\"colorbar\":{\"outlinewidth\":0,\"ticks\":\"\"}}}],\"histogram\":[{\"marker\":{\"pattern\":{\"fillmode\":\"overlay\",\"size\":10,\"solidity\":0.2}},\"type\":\"histogram\"}],\"scattergl\":[{\"type\":\"scattergl\",\"marker\":{\"colorbar\":{\"outlinewidth\":0,\"ticks\":\"\"}}}],\"scatter3d\":[{\"type\":\"scatter3d\",\"line\":{\"colorbar\":{\"outlinewidth\":0,\"ticks\":\"\"}},\"marker\":{\"colorbar\":{\"outlinewidth\":0,\"ticks\":\"\"}}}],\"scattermapbox\":[{\"type\":\"scattermapbox\",\"marker\":{\"colorbar\":{\"outlinewidth\":0,\"ticks\":\"\"}}}],\"scatterternary\":[{\"type\":\"scatterternary\",\"marker\":{\"colorbar\":{\"outlinewidth\":0,\"ticks\":\"\"}}}],\"scattercarpet\":[{\"type\":\"scattercarpet\",\"marker\":{\"colorbar\":{\"outlinewidth\":0,\"ticks\":\"\"}}}],\"carpet\":[{\"aaxis\":{\"endlinecolor\":\"#2a3f5f\",\"gridcolor\":\"white\",\"linecolor\":\"white\",\"minorgridcolor\":\"white\",\"startlinecolor\":\"#2a3f5f\"},\"baxis\":{\"endlinecolor\":\"#2a3f5f\",\"gridcolor\":\"white\",\"linecolor\":\"white\",\"minorgridcolor\":\"white\",\"startlinecolor\":\"#2a3f5f\"},\"type\":\"carpet\"}],\"table\":[{\"cells\":{\"fill\":{\"color\":\"#EBF0F8\"},\"line\":{\"color\":\"white\"}},\"header\":{\"fill\":{\"color\":\"#C8D4E3\"},\"line\":{\"color\":\"white\"}},\"type\":\"table\"}],\"barpolar\":[{\"marker\":{\"line\":{\"color\":\"#E5ECF6\",\"width\":0.5},\"pattern\":{\"fillmode\":\"overlay\",\"size\":10,\"solidity\":0.2}},\"type\":\"barpolar\"}],\"pie\":[{\"automargin\":true,\"type\":\"pie\"}]},\"layout\":{\"autotypenumbers\":\"strict\",\"colorway\":[\"#636efa\",\"#EF553B\",\"#00cc96\",\"#ab63fa\",\"#FFA15A\",\"#19d3f3\",\"#FF6692\",\"#B6E880\",\"#FF97FF\",\"#FECB52\"],\"font\":{\"color\":\"#2a3f5f\"},\"hovermode\":\"closest\",\"hoverlabel\":{\"align\":\"left\"},\"paper_bgcolor\":\"white\",\"plot_bgcolor\":\"#E5ECF6\",\"polar\":{\"bgcolor\":\"#E5ECF6\",\"angularaxis\":{\"gridcolor\":\"white\",\"linecolor\":\"white\",\"ticks\":\"\"},\"radialaxis\":{\"gridcolor\":\"white\",\"linecolor\":\"white\",\"ticks\":\"\"}},\"ternary\":{\"bgcolor\":\"#E5ECF6\",\"aaxis\":{\"gridcolor\":\"white\",\"linecolor\":\"white\",\"ticks\":\"\"},\"baxis\":{\"gridcolor\":\"white\",\"linecolor\":\"white\",\"ticks\":\"\"},\"caxis\":{\"gridcolor\":\"white\",\"linecolor\":\"white\",\"ticks\":\"\"}},\"coloraxis\":{\"colorbar\":{\"outlinewidth\":0,\"ticks\":\"\"}},\"colorscale\":{\"sequential\":[[0.0,\"#0d0887\"],[0.1111111111111111,\"#46039f\"],[0.2222222222222222,\"#7201a8\"],[0.3333333333333333,\"#9c179e\"],[0.4444444444444444,\"#bd3786\"],[0.5555555555555556,\"#d8576b\"],[0.6666666666666666,\"#ed7953\"],[0.7777777777777778,\"#fb9f3a\"],[0.8888888888888888,\"#fdca26\"],[1.0,\"#f0f921\"]],\"sequentialminus\":[[0.0,\"#0d0887\"],[0.1111111111111111,\"#46039f\"],[0.2222222222222222,\"#7201a8\"],[0.3333333333333333,\"#9c179e\"],[0.4444444444444444,\"#bd3786\"],[0.5555555555555556,\"#d8576b\"],[0.6666666666666666,\"#ed7953\"],[0.7777777777777778,\"#fb9f3a\"],[0.8888888888888888,\"#fdca26\"],[1.0,\"#f0f921\"]],\"diverging\":[[0,\"#8e0152\"],[0.1,\"#c51b7d\"],[0.2,\"#de77ae\"],[0.3,\"#f1b6da\"],[0.4,\"#fde0ef\"],[0.5,\"#f7f7f7\"],[0.6,\"#e6f5d0\"],[0.7,\"#b8e186\"],[0.8,\"#7fbc41\"],[0.9,\"#4d9221\"],[1,\"#276419\"]]},\"xaxis\":{\"gridcolor\":\"white\",\"linecolor\":\"white\",\"ticks\":\"\",\"title\":{\"standoff\":15},\"zerolinecolor\":\"white\",\"automargin\":true,\"zerolinewidth\":2},\"yaxis\":{\"gridcolor\":\"white\",\"linecolor\":\"white\",\"ticks\":\"\",\"title\":{\"standoff\":15},\"zerolinecolor\":\"white\",\"automargin\":true,\"zerolinewidth\":2},\"scene\":{\"xaxis\":{\"backgroundcolor\":\"#E5ECF6\",\"gridcolor\":\"white\",\"linecolor\":\"white\",\"showbackground\":true,\"ticks\":\"\",\"zerolinecolor\":\"white\",\"gridwidth\":2},\"yaxis\":{\"backgroundcolor\":\"#E5ECF6\",\"gridcolor\":\"white\",\"linecolor\":\"white\",\"showbackground\":true,\"ticks\":\"\",\"zerolinecolor\":\"white\",\"gridwidth\":2},\"zaxis\":{\"backgroundcolor\":\"#E5ECF6\",\"gridcolor\":\"white\",\"linecolor\":\"white\",\"showbackground\":true,\"ticks\":\"\",\"zerolinecolor\":\"white\",\"gridwidth\":2}},\"shapedefaults\":{\"line\":{\"color\":\"#2a3f5f\"}},\"annotationdefaults\":{\"arrowcolor\":\"#2a3f5f\",\"arrowhead\":0,\"arrowwidth\":1},\"geo\":{\"bgcolor\":\"white\",\"landcolor\":\"#E5ECF6\",\"subunitcolor\":\"white\",\"showland\":true,\"showlakes\":true,\"lakecolor\":\"white\"},\"title\":{\"x\":0.05},\"mapbox\":{\"style\":\"light\"}}},\"title\":{\"text\":\"Sankey Diagram of Association Rules (Lift as Flow)\"},\"font\":{\"size\":10}},                        {\"responsive\": true}                    ).then(function(){\n",
       "                            \n",
       "var gd = document.getElementById('b72ab766-f765-4c2a-a934-d5c91174a960');\n",
       "var x = new MutationObserver(function (mutations, observer) {{\n",
       "        var display = window.getComputedStyle(gd).display;\n",
       "        if (!display || display === 'none') {{\n",
       "            console.log([gd, 'removed!']);\n",
       "            Plotly.purge(gd);\n",
       "            observer.disconnect();\n",
       "        }}\n",
       "}});\n",
       "\n",
       "// Listen for the removal of the full notebook cells\n",
       "var notebookContainer = gd.closest('#notebook-container');\n",
       "if (notebookContainer) {{\n",
       "    x.observe(notebookContainer, {childList: true});\n",
       "}}\n",
       "\n",
       "// Listen for the clearing of the current output cell\n",
       "var outputEl = gd.closest('.output');\n",
       "if (outputEl) {{\n",
       "    x.observe(outputEl, {childList: true});\n",
       "}}\n",
       "\n",
       "                        })                };                });            </script>        </div>"
      ]
     },
     "metadata": {},
     "output_type": "display_data"
    }
   ],
   "source": [
    "import plotly.graph_objects as go\n",
    "\n",
    "filtered_rules[\"antecedents\"] = filtered_rules[\"antecedents\"].apply(lambda x: \", \".join(list(x)))\n",
    "filtered_rules[\"consequents\"] = filtered_rules[\"consequents\"].apply(lambda x: \", \".join(list(x)))\n",
    "\n",
    "antecedents = filtered_rules[\"antecedents\"].tolist()\n",
    "consequents = filtered_rules[\"consequents\"].tolist()\n",
    "lift_values = filtered_rules[\"lift\"].tolist()\n",
    "\n",
    "unique_labels = list(set(antecedents + consequents))\n",
    "label_index = {label: idx for idx, label in enumerate(unique_labels)}\n",
    "\n",
    "sources = [label_index[ant] for ant in antecedents]\n",
    "targets = [label_index[cons] for cons in consequents]\n",
    "\n",
    "fig = go.Figure(data=[go.Sankey(\n",
    "    node=dict(\n",
    "        pad=15,\n",
    "        thickness=20,\n",
    "        line=dict(color=\"black\", width=0.5),\n",
    "        label=unique_labels\n",
    "    ),\n",
    "    link=dict(\n",
    "        source=sources,  \n",
    "        target=targets,  \n",
    "        value=lift_values,  \n",
    "        color=\"blue\"\n",
    "    )\n",
    ")])\n",
    "\n",
    "fig.update_layout(title_text=\"Sankey Diagram of Association Rules (Lift as Flow)\", font_size=10)\n",
    "fig.show()\n"
   ]
  },
  {
   "cell_type": "markdown",
   "id": "6c3f0d0d-2ad3-4f32-8705-2dd023181c43",
   "metadata": {},
   "source": [
    " Each node in the diagram represents an item (e.g., \"Plain Rice,\" \"Bhuna - Chicken,\" \"Chicken Tikka Balti\").These items are either antecedents (products purchased first) or consequents (products frequently purchased alongside).Thick arrows between items (e.g., from \"Plain Rice\" to \"Chicken Tikka Balti\") indicate strong associations. This means customers who buy \"Plain Rice\" are likely to purchase \"Chicken Tikka Balti\" as well.Nodes with multiple arrows (inbound and outbound) highlight items that play a central role in customer buying patterns, like \"Plain Rice.\"By using lift as the flow magnitude, the diagram emphasizes combinations where the joint purchase probability significantly exceeds random chance.\n",
    "     **\"Plain Rice\" → \"Bhuna - Chicken\"**: A strong association with a high lift value.\n",
    "    **\"Chicken Tikka Balti\" → \"Plain Rice\"**: Another strong connection, showing these two items are frequently bought together."
   ]
  },
  {
   "cell_type": "code",
   "execution_count": 171,
   "id": "4591c98d-ac1e-48b7-a85d-b9c99dd1759c",
   "metadata": {},
   "outputs": [
    {
     "name": "stdout",
     "output_type": "stream",
     "text": [
      "Products where Plain Rice is an antecedent: ['Chicken Tikka Balti', 'Bhuna - Chicken', 'House white wine 75cl']\n",
      "Products where Plain Rice is a consequent: ['Bhuna - Chicken', 'Chicken Tikka Balti', 'House white wine 75cl']\n"
     ]
    }
   ],
   "source": [
    "def find_related_products(item, rules, role='consequents', top_n=3):\n",
    "   \n",
    "    if role not in ['consequents', 'antecedents']:\n",
    "        raise ValueError(\"Role must be 'consequents' or 'antecedents'\")\n",
    "\n",
    "    \n",
    "    relevant_rules = rules[rules[role].apply(lambda x: item in x)]\n",
    "    sorted_rules = relevant_rules.sort_values(by='confidence', ascending=False)\n",
    "    other_role = 'antecedents' if role == 'consequents' else 'consequents'\n",
    "    related_products = sorted_rules[other_role].head(top_n).apply(lambda x: list(x)[0])\n",
    "    return related_products.tolist()\n",
    "\n",
    "user_item = 'Plain Rice'\n",
    "recommended_as_consequents = find_related_products(user_item, rules, role='consequents')\n",
    "recommended_as_antecedents = find_related_products(user_item, rules, role='antecedents')\n",
    "\n",
    "print(f\"Products where {user_item} is an antecedent: {recommended_as_consequents}\")\n",
    "print(f\"Products where {user_item} is a consequent: {recommended_as_antecedents}\")\n"
   ]
  },
  {
   "cell_type": "code",
   "execution_count": 182,
   "id": "833495da-b7b8-4526-9bda-1caf37f1052e",
   "metadata": {},
   "outputs": [
    {
     "name": "stdout",
     "output_type": "stream",
     "text": [
      "Products recommended for fans of Plain Rice:\n",
      "- Bhuna - Chicken (based on confidence 0.46)\n",
      "- Chicken Tikka Balti (based on confidence 0.25)\n",
      "- House white wine 75cl (based on confidence 0.07)\n"
     ]
    }
   ],
   "source": [
    "def recommend_products_based_on_item(user_favorite_item, rules, top_n=3):\n",
    "    relevant_rules = rules[rules['antecedents'].apply(lambda x: user_favorite_item in x)]\n",
    "    sorted_rules = relevant_rules.sort_values(by='confidence', ascending=False)\n",
    "    recommendations = sorted_rules['consequents'].head(top_n).apply(lambda x: list(x)[0]).unique()\n",
    "    recommendations_with_context = [\n",
    "        f\"{recommendation} (based on confidence {sorted_rules.loc[sorted_rules['consequents'].apply(lambda x: recommendation in x), 'confidence'].values[0]:.2f})\"\n",
    "        for recommendation in recommendations\n",
    "    ]\n",
    "\n",
    "    return recommendations_with_context\n",
    "user_favorite_item = 'Plain Rice'\n",
    "recommended_products = recommend_products_based_on_item(user_favorite_item, rules)\n",
    "print(f\"Products recommended for fans of {user_favorite_item}:\")\n",
    "for rec in recommended_products:\n",
    "    print(f\"- {rec}\")\n"
   ]
  },
  {
   "cell_type": "markdown",
   "id": "8a57690f-bbf3-4fd1-8756-a08fdaccee84",
   "metadata": {},
   "source": [
    "\n",
    "I used the **Apriori algorithm** to generate association rules from the restaurant’s transaction data. This method helps find frequent itemsets and generates rules that suggest how often products are bought together.\n",
    " I found that \"Chicken Tikka Balti\" and \"Plain Rice\" have a strong positive association with a lift value of 1.107, meaning these items are frequently bought together more than expected by chance .\n",
    "    Using the association rules, i developed functions to *recommend related products*. These functions allowed me to: Find related products based on an item’s role as an antecedent or consequent. Recommend top products based on the association rule confidence. If a customer likes \"Plain Rice\", the system recommends \"Bhuna - Chicken\" and \"Chicken Tikka Balti\" with the highest confidence values.\n",
    "  As an alternative to Apriori, i also explored the *FP-Growth algorithm* to mine frequent itemsets and generate association rules. While this method is often more efficient for larger datasets, in this case, it yielded nearly identical results to Apriori, providing me with further validation of the item relationships.\n",
    "\n",
    "The analysis revealed several strong associations between menu items.\n",
    " **\"Chicken Tikka Balti\"** and **\"Plain Rice\"** had a high **lift** value of 1.107, indicating they are frequently bought together. This suggests that the restaurant could promote these items as a bundle or suggest them to customers who order one of them.\n",
    "**\"Bhuna - Chicken\"** was found to be strongly related to **\"Plain Rice\"**, with a confidence value of 0.46, showing a solid chance that customers who order one will order the other.\n",
    "  \n",
    "\n",
    "\n",
    "Based on the findings, the restaurant can take several actions to improve customer experience and business outcomes. The restaurant could offer special promotions or discount deals based on the associations found. For example, customers who order \"Chicken Tikka Balti\" could be offered a discount on \"Plain Rice\" to encourage a combined purchase.\n",
    "\n",
    "### Conclusion\n",
    "\n",
    "This project has been successful at finding connections between items and recommending related products. The recommendations based on confidence were particularly good for making personalized suggestions.\n",
    "\n",
    "Moving forward, the restaurant can use this information to better bundle products, cross-sell, and create personalized experiences for customers. This should help increase sales and keep customers coming back.\n"
   ]
  }
 ],
 "metadata": {
  "kernelspec": {
   "display_name": "Python 3 (ipykernel)",
   "language": "python",
   "name": "python3"
  },
  "language_info": {
   "codemirror_mode": {
    "name": "ipython",
    "version": 3
   },
   "file_extension": ".py",
   "mimetype": "text/x-python",
   "name": "python",
   "nbconvert_exporter": "python",
   "pygments_lexer": "ipython3",
   "version": "3.12.4"
  }
 },
 "nbformat": 4,
 "nbformat_minor": 5
}
